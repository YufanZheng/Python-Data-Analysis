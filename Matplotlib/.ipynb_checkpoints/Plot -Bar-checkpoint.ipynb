{
 "cells": [
  {
   "cell_type": "markdown",
   "metadata": {},
   "source": [
    "## Matplotlib Plot Bar"
   ]
  },
  {
   "cell_type": "code",
   "execution_count": 1,
   "metadata": {
    "collapsed": true
   },
   "outputs": [],
   "source": [
    "import matplotlib.pyplot as plt\n",
    "import numpy as np"
   ]
  },
  {
   "cell_type": "markdown",
   "metadata": {},
   "source": [
    "### Prepare Data"
   ]
  },
  {
   "cell_type": "code",
   "execution_count": 2,
   "metadata": {},
   "outputs": [
    {
     "data": {
      "image/png": "[encoded data removed]",
      "text/plain": [
       "<matplotlib.figure.Figure at 0x10bd74358>"
      ]
     },
     "metadata": {},
     "output_type": "display_data"
    }
   ],
   "source": [
    "n = 12\n",
    "\n",
    "X  = np.arange(n)\n",
    "Y1 = ( 1 - X / float(n) ) * np.random.uniform(0.5, 1.0, n)  \n",
    "Y2 = ( 1 - X / float(n) ) * np.random.uniform(0.5, 1.0, n)  \n",
    "\n",
    "# Plot Bar\n",
    "plt.bar(X, +Y1, facecolor = \"#9999ff\", edgecolor = \"white\")\n",
    "plt.bar(X, -Y2, facecolor = \"#ff9999\", edgecolor = \"white\")\n",
    "\n",
    "# Append text\n",
    "# - ha : horizontal align\n",
    "# - va : vertical align\n",
    "for x, y in zip(X, Y1):\n",
    "    plt.text(x, y+0.05, '%.2f' % y, ha='center', va='bottom')\n",
    "    \n",
    "for x, y in zip(X, Y2):\n",
    "    plt.text(x, -y-0.15, '%.2f' % -y, ha='center', va='bottom')\n",
    "    \n",
    "plt.ylim((-1.2, 1.2))\n",
    "plt.show()"
   ]
  }
 ],
 "metadata": {
  "kernelspec": {
   "display_name": "Python 3",
   "language": "python",
   "name": "python3"
  },
  "language_info": {
   "codemirror_mode": {
    "name": "ipython",
    "version": 3
   },
   "file_extension": ".py",
   "mimetype": "text/x-python",
   "name": "python",
   "nbconvert_exporter": "python",
   "pygments_lexer": "ipython3",
   "version": "3.6.2"
  }
 },
 "nbformat": 4,
 "nbformat_minor": 2
}
