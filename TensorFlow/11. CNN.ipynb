{
 "cells": [
  {
   "cell_type": "markdown",
   "metadata": {},
   "source": [
    "# Build CNN Network with TensorFlow Layers"
   ]
  },
  {
   "cell_type": "code",
   "execution_count": 1,
   "metadata": {
    "collapsed": true
   },
   "outputs": [],
   "source": [
    "import tensorflow as tf\n",
    "from tensorflow.examples.tutorials.mnist import input_data"
   ]
  },
  {
   "cell_type": "markdown",
   "metadata": {},
   "source": [
    "## Load MNIST Dataset"
   ]
  },
  {
   "cell_type": "code",
   "execution_count": 3,
   "metadata": {},
   "outputs": [
    {
     "name": "stdout",
     "output_type": "stream",
     "text": [
      "Extracting ./MNIST_data/train-images-idx3-ubyte.gz\n",
      "Extracting ./MNIST_data/train-labels-idx1-ubyte.gz\n",
      "Extracting ./MNIST_data/t10k-images-idx3-ubyte.gz\n",
      "Extracting ./MNIST_data/t10k-labels-idx1-ubyte.gz\n"
     ]
    }
   ],
   "source": [
    "mnist = input_data.read_data_sets('./MNIST_data', one_hot=True)"
   ]
  },
  {
   "cell_type": "markdown",
   "metadata": {},
   "source": [
    "## Build CNN Net"
   ]
  },
  {
   "cell_type": "markdown",
   "metadata": {},
   "source": [
    "Placeholders"
   ]
  },
  {
   "cell_type": "code",
   "execution_count": 15,
   "metadata": {
    "collapsed": true
   },
   "outputs": [],
   "source": [
    "# MNIST Inputs\n",
    "xs = tf.placeholder(shape=[None, 784], dtype=tf.float32, name='input')\n",
    "ys = tf.placeholder(shape=[None, 10] , dtype=tf.float32, name='digit')\n",
    "\n",
    "# Transform x_input to image\n",
    "x_image = tf.reshape(xs, [-1, 28, 28, 1])\n",
    "\n",
    "# Dropout keep probability\n",
    "keep_prob = tf.placeholder(dtype=tf.float32, name='keep_prob')"
   ]
  },
  {
   "cell_type": "markdown",
   "metadata": {},
   "source": [
    "CNN Network"
   ]
  },
  {
   "cell_type": "code",
   "execution_count": 20,
   "metadata": {
    "collapsed": true
   },
   "outputs": [],
   "source": [
    "## Conv Layer 1\n",
    "conv_1 = tf.layers.conv2d(\n",
    "    inputs=x_image,\n",
    "    filters=16,\n",
    "    kernel_size=5,\n",
    "    strides=1,\n",
    "    padding='same',\n",
    "    activation=tf.nn.relu\n",
    ")\n",
    "\n",
    "## Max Pooling Layer 1\n",
    "pool_1 = tf.layers.max_pooling2d(\n",
    "    inputs=conv_1, \n",
    "    pool_size=2, \n",
    "    strides=2,\n",
    "    padding='same'\n",
    ")\n",
    "\n",
    "## Conv Layer 2\n",
    "conv_2 = tf.layers.conv2d(\n",
    "    inputs=pool_1,\n",
    "    filters=32,\n",
    "    kernel_size=5,\n",
    "    strides=1,\n",
    "    padding='same',\n",
    "    activation=tf.nn.relu\n",
    ")\n",
    "\n",
    "## Max Pooling Layer 2\n",
    "pool_2 = tf.layers.max_pooling2d(\n",
    "    inputs=conv_2, \n",
    "    pool_size=2, \n",
    "    strides=2,\n",
    "    padding='same'\n",
    ")\n",
    "\n",
    "## Flattern\n",
    "flat = tf.layers.flatten(pool_2)\n",
    "\n",
    "## Fully Connected Layer\n",
    "hidden = tf.layers.dense(\n",
    "    inputs=flat, \n",
    "    units=1024, \n",
    "    activation=tf.nn.relu\n",
    ")\n",
    "\n",
    "## Dropout Layer\n",
    "dropout = tf.layers.dropout(\n",
    "    inputs=hidden, \n",
    "    rate=keep_prob\n",
    ")\n",
    "\n",
    "## Prediction Layer\n",
    "prediction = tf.layers.dense(\n",
    "    inputs=dropout, \n",
    "    units=10\n",
    ")"
   ]
  },
  {
   "cell_type": "markdown",
   "metadata": {},
   "source": [
    "loss and train"
   ]
  },
  {
   "cell_type": "code",
   "execution_count": 32,
   "metadata": {
    "collapsed": true
   },
   "outputs": [],
   "source": [
    "loss = tf.losses.softmax_cross_entropy(onehot_labels=ys, logits=prediction)\n",
    "train = tf.train.AdamOptimizer(0.001).minimize(loss)"
   ]
  },
  {
   "cell_type": "markdown",
   "metadata": {},
   "source": [
    "accuracy"
   ]
  },
  {
   "cell_type": "code",
   "execution_count": 33,
   "metadata": {
    "collapsed": true
   },
   "outputs": [],
   "source": [
    "accuracy = tf.metrics.accuracy( \n",
    "    labels=tf.argmax(ys, axis=1), \n",
    "    predictions=tf.argmax(prediction, axis=1)\n",
    ")[1]"
   ]
  },
  {
   "cell_type": "markdown",
   "metadata": {},
   "source": [
    "## Train Network"
   ]
  },
  {
   "cell_type": "code",
   "execution_count": 37,
   "metadata": {},
   "outputs": [
    {
     "name": "stdout",
     "output_type": "stream",
     "text": [
      "Step 0 Accuracy : 0.37\n",
      "Step 100 Accuracy : 0.6665\n",
      "Step 200 Accuracy : 0.764667\n",
      "Step 300 Accuracy : 0.819\n",
      "Step 400 Accuracy : 0.8518\n",
      "Step 500 Accuracy : 0.872\n",
      "Step 600 Accuracy : 0.888714\n",
      "Step 700 Accuracy : 0.900125\n",
      "Step 800 Accuracy : 0.910111\n",
      "Step 900 Accuracy : 0.9179\n",
      "Step 1000 Accuracy : 0.924\n",
      "Step 1100 Accuracy : 0.92925\n",
      "Step 1200 Accuracy : 0.933769\n",
      "Step 1300 Accuracy : 0.937643\n",
      "Step 1400 Accuracy : 0.941067\n",
      "Step 1500 Accuracy : 0.943875\n",
      "Step 1600 Accuracy : 0.946647\n",
      "Step 1700 Accuracy : 0.949167\n",
      "Step 1800 Accuracy : 0.951158\n",
      "Step 1900 Accuracy : 0.95335\n"
     ]
    }
   ],
   "source": [
    "with tf.Session() as sess:\n",
    "    \n",
    "    # Init Ops\n",
    "    sess.run(tf.global_variables_initializer())\n",
    "    sess.run(tf.local_variables_initializer())\n",
    "    \n",
    "    # Start Training\n",
    "    for i in range(2000):\n",
    "        # Get Batch Data\n",
    "        x_train_batch, y_train_batch = mnist.train.next_batch(100)\n",
    "        # Train with bacth\n",
    "        sess.run(train, feed_dict={\n",
    "            xs: x_train_batch,\n",
    "            ys: y_train_batch,\n",
    "            keep_prob: 0.8\n",
    "        })\n",
    "        # Print accuracy every 1000 steps\n",
    "        if i%100 == 0:\n",
    "            # Print accuracy on validation dataset\n",
    "            x_val_batch, y_val_batch = mnist.validation.next_batch(1000)\n",
    "            print('Step', i, 'Accuracy :', sess.run(accuracy, feed_dict={\n",
    "                xs: x_val_batch,\n",
    "                ys: y_val_batch,\n",
    "                keep_prob: 0.8\n",
    "            }))"
   ]
  }
 ],
 "metadata": {
  "kernelspec": {
   "display_name": "Python 3",
   "language": "python",
   "name": "python3"
  },
  "language_info": {
   "codemirror_mode": {
    "name": "ipython",
    "version": 3
   },
   "file_extension": ".py",
   "mimetype": "text/x-python",
   "name": "python",
   "nbconvert_exporter": "python",
   "pygments_lexer": "ipython3",
   "version": "3.6.2"
  }
 },
 "nbformat": 4,
 "nbformat_minor": 2
}
