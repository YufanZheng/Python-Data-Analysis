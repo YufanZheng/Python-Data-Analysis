{
 "cells": [
  {
   "cell_type": "markdown",
   "metadata": {},
   "source": [
    "# First example of tensorflow\n",
    "\n",
    "We use numpy to create a list of random x -> y points: y = x *0.1 + 0.3\n",
    "\n",
    "The objectif is to use tensorflow to find the Weights and biases"
   ]
  },
  {
   "cell_type": "code",
   "execution_count": 1,
   "metadata": {
    "collapsed": true
   },
   "outputs": [],
   "source": [
    "import numpy as np\n",
    "import tensorflow as tf\n",
    "import matplotlib.pyplot as plt"
   ]
  },
  {
   "cell_type": "markdown",
   "metadata": {},
   "source": [
    "## Create data for traning"
   ]
  },
  {
   "cell_type": "code",
   "execution_count": 2,
   "metadata": {
    "collapsed": true
   },
   "outputs": [],
   "source": [
    "x_data = np.random.rand(100).astype(np.float32)\n",
    "y_data = x_data * 0.1 + 0.3"
   ]
  },
  {
   "cell_type": "code",
   "execution_count": 3,
   "metadata": {},
   "outputs": [
    {
     "data": {
      "image/png": "[encoded data removed]",
      "text/plain": [
       "<matplotlib.figure.Figure at 0x117cd54e0>"
      ]
     },
     "metadata": {},
     "output_type": "display_data"
    }
   ],
   "source": [
    "plt.scatter(x_data,y_data)\n",
    "plt.xlabel(\"x-input\")\n",
    "plt.ylabel(\"y-output\")\n",
    "plt.show()"
   ]
  },
  {
   "cell_type": "markdown",
   "metadata": {},
   "source": [
    "## Build training model"
   ]
  },
  {
   "cell_type": "markdown",
   "metadata": {},
   "source": [
    "Build tensorflow structure"
   ]
  },
  {
   "cell_type": "code",
   "execution_count": 4,
   "metadata": {
    "collapsed": true
   },
   "outputs": [],
   "source": [
    "Weights = tf.Variable( tf.random_uniform([1], -1, 1) )\n",
    "biases  = tf.Variable( tf.zeros([1]) )\n",
    "\n",
    "y = Weights * x_data + biases"
   ]
  },
  {
   "cell_type": "markdown",
   "metadata": {},
   "source": [
    "Define the loss function"
   ]
  },
  {
   "cell_type": "code",
   "execution_count": 5,
   "metadata": {
    "collapsed": true
   },
   "outputs": [],
   "source": [
    "loss = tf.reduce_mean( tf.square(y-y_data) )"
   ]
  },
  {
   "cell_type": "markdown",
   "metadata": {},
   "source": [
    "Define optimizer"
   ]
  },
  {
   "cell_type": "code",
   "execution_count": 6,
   "metadata": {
    "collapsed": true
   },
   "outputs": [],
   "source": [
    "optimizer = tf.train.GradientDescentOptimizer(0.01)"
   ]
  },
  {
   "cell_type": "markdown",
   "metadata": {},
   "source": [
    "Define train step"
   ]
  },
  {
   "cell_type": "code",
   "execution_count": 7,
   "metadata": {
    "collapsed": true
   },
   "outputs": [],
   "source": [
    "train = optimizer.minimize(loss)"
   ]
  },
  {
   "cell_type": "markdown",
   "metadata": {},
   "source": [
    "## Train the model"
   ]
  },
  {
   "cell_type": "code",
   "execution_count": 8,
   "metadata": {},
   "outputs": [
    {
     "name": "stdout",
     "output_type": "stream",
     "text": [
      "Step 0  Weights : [-0.54788727]  biases : [ 0.01286859]  loss : 0.43198\n",
      "Step 1000  Weights : [ 0.01431251]  biases : [ 0.34839404]  loss : 0.000705512\n",
      "Step 2000  Weights : [ 0.08006193]  biases : [ 0.31126049]  loss : 3.81976e-05\n",
      "Step 3000  Weights : [ 0.09536087]  biases : [ 0.30262008]  loss : 2.06797e-06\n",
      "Step 4000  Weights : [ 0.09892046]  biases : [ 0.30060977]  loss : 1.11987e-07\n",
      "Step 5000  Weights : [ 0.09974821]  biases : [ 0.3001425]  loss : 6.09781e-09\n",
      "Step 6000  Weights : [ 0.09994023]  biases : [ 0.30003354]  loss : 3.42238e-10\n",
      "Step 7000  Weights : [ 0.09998587]  biases : [ 0.30000815]  loss : 1.94103e-11\n",
      "Step 8000  Weights : [ 0.09999395]  biases : [ 0.30000392]  loss : 3.99808e-12\n",
      "Step 9000  Weights : [ 0.09999395]  biases : [ 0.30000392]  loss : 3.99808e-12\n",
      "Step 10000  Weights : [ 0.09999395]  biases : [ 0.30000392]  loss : 3.99808e-12\n"
     ]
    }
   ],
   "source": [
    "with tf.Session() as sess:\n",
    "    sess.run(tf.global_variables_initializer())\n",
    "    \n",
    "    for step in range(10001):\n",
    "        sess.run(train)\n",
    "        \n",
    "        if step % 1000 == 0:\n",
    "            print(\"Step\", step, \" Weights :\", sess.run(Weights), \" biases :\", sess.run(biases), \" loss :\", sess.run(loss))"
   ]
  }
 ],
 "metadata": {
  "kernelspec": {
   "display_name": "Python 3",
   "language": "python",
   "name": "python3"
  },
  "language_info": {
   "codemirror_mode": {
    "name": "ipython",
    "version": 3
   },
   "file_extension": ".py",
   "mimetype": "text/x-python",
   "name": "python",
   "nbconvert_exporter": "python",
   "pygments_lexer": "ipython3",
   "version": "3.6.2"
  }
 },
 "nbformat": 4,
 "nbformat_minor": 2
}
