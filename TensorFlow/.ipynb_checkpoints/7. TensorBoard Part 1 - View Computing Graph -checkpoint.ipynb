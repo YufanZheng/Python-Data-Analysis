{
 "cells": [
  {
   "cell_type": "markdown",
   "metadata": {},
   "source": [
    "# TensorBoard Part 1: View Computing Graph"
   ]
  },
  {
   "cell_type": "code",
   "execution_count": 1,
   "metadata": {
    "collapsed": true
   },
   "outputs": [],
   "source": [
    "import tensorflow as tf\n",
    "import numpy as np"
   ]
  },
  {
   "cell_type": "code",
   "execution_count": 2,
   "metadata": {
    "collapsed": true
   },
   "outputs": [],
   "source": [
    "x_data = np.linspace(-3, 3, 300).reshape(300, 1).astype(np.float32)\n",
    "y_data = np.square(x_data) - 1 + np.random.rand(300, 1)"
   ]
  },
  {
   "cell_type": "code",
   "execution_count": 3,
   "metadata": {
    "collapsed": true
   },
   "outputs": [],
   "source": [
    "def add_layer(input, in_dim, out_dim, activation_function=None):\n",
    "    with tf.name_scope(\"layer\"):\n",
    "        with tf.name_scope(\"Weight\"):\n",
    "            Weight = tf.Variable(tf.random_normal(shape=(in_dim, out_dim), dtype=tf.float32), name=\"W\")\n",
    "        with tf.name_scope(\"biases\"):\n",
    "            biases = tf.Variable(tf.zeros(out_dim)+0.1, dtype=tf.float32, name=\"b\")\n",
    "        with tf.name_scope(\"Wx_plus_b\"):\n",
    "            Wx_plus_b = tf.matmul(input, Weight) + biases\n",
    "    if activation_function != None:\n",
    "        return activation_function(Wx_plus_b)\n",
    "    else:\n",
    "        return Wx_plus_b"
   ]
  },
  {
   "cell_type": "code",
   "execution_count": 4,
   "metadata": {
    "collapsed": true
   },
   "outputs": [],
   "source": [
    "with tf.name_scope(\"input\"):\n",
    "    x_input = tf.placeholder(shape=[None, 1], dtype=tf.float32, name=\"x_input\")\n",
    "    y_input = tf.placeholder(shape=[None, 1], dtype=tf.float32, name=\"y_input\")"
   ]
  },
  {
   "cell_type": "code",
   "execution_count": 5,
   "metadata": {
    "collapsed": true
   },
   "outputs": [],
   "source": [
    "hidden = add_layer(x_data, 1, 10, tf.nn.relu)\n",
    "output = add_layer(hidden, 10, 1, None)"
   ]
  },
  {
   "cell_type": "code",
   "execution_count": 6,
   "metadata": {
    "collapsed": true
   },
   "outputs": [],
   "source": [
    "with tf.name_scope(\"loss\"):\n",
    "    loss = tf.reduce_mean( tf.square(output-y_data) )\n",
    "with tf.name_scope(\"train\"):\n",
    "    train = tf.train.GradientDescentOptimizer(0.01).minimize(loss)"
   ]
  },
  {
   "cell_type": "code",
   "execution_count": 7,
   "metadata": {},
   "outputs": [
    {
     "name": "stdout",
     "output_type": "stream",
     "text": [
      "3.60952\n",
      "0.431621\n",
      "0.299644\n",
      "0.231367\n",
      "0.189496\n",
      "0.162164\n",
      "0.143437\n",
      "0.133365\n",
      "0.127328\n",
      "0.123848\n"
     ]
    }
   ],
   "source": [
    "with tf.Session() as sess:\n",
    "    \n",
    "    # Write tensor board file\n",
    "    writer = tf.summary.FileWriter(\"logs/\", sess.graph)\n",
    "    \n",
    "    # Init\n",
    "    sess.run(tf.global_variables_initializer())\n",
    "    \n",
    "    # Train Step\n",
    "    for i in range(2000):\n",
    "        sess.run(train, feed_dict={\n",
    "            x_input: x_data,\n",
    "            y_input: y_data\n",
    "        })\n",
    "        if i % 200 == 0:\n",
    "            print(sess.run(loss, feed_dict={\n",
    "                x_input: x_data,\n",
    "                y_input: y_data\n",
    "            }))"
   ]
  },
  {
   "cell_type": "markdown",
   "metadata": {
    "collapsed": true
   },
   "source": [
    "## To see the tensorboard\n",
    "tensorboard --logdir='logs/'"
   ]
  }
 ],
 "metadata": {
  "kernelspec": {
   "display_name": "Python 3",
   "language": "python",
   "name": "python3"
  },
  "language_info": {
   "codemirror_mode": {
    "name": "ipython",
    "version": 3
   },
   "file_extension": ".py",
   "mimetype": "text/x-python",
   "name": "python",
   "nbconvert_exporter": "python",
   "pygments_lexer": "ipython3",
   "version": "3.6.2"
  }
 },
 "nbformat": 4,
 "nbformat_minor": 2
}
