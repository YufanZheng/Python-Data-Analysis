{
 "cells": [
  {
   "cell_type": "markdown",
   "metadata": {},
   "source": [
    "# TensorFlow Autoencoder"
   ]
  },
  {
   "cell_type": "code",
   "execution_count": 1,
   "metadata": {},
   "outputs": [
    {
     "name": "stderr",
     "output_type": "stream",
     "text": [
      "/anaconda/lib/python3.6/importlib/_bootstrap.py:205: RuntimeWarning: compiletime version 3.5 of module 'tensorflow.python.framework.fast_tensor_util' does not match runtime version 3.6\n",
      "  return f(*args, **kwds)\n"
     ]
    }
   ],
   "source": [
    "import tensorflow as tf\n",
    "import numpy as np\n",
    "import matplotlib.pyplot as plt"
   ]
  },
  {
   "cell_type": "markdown",
   "metadata": {},
   "source": [
    "## Import MNIST Dataset"
   ]
  },
  {
   "cell_type": "code",
   "execution_count": 2,
   "metadata": {},
   "outputs": [
    {
     "name": "stdout",
     "output_type": "stream",
     "text": [
      "Extracting ./MNIST_data/train-images-idx3-ubyte.gz\n",
      "Extracting ./MNIST_data/train-labels-idx1-ubyte.gz\n",
      "Extracting ./MNIST_data/t10k-images-idx3-ubyte.gz\n",
      "Extracting ./MNIST_data/t10k-labels-idx1-ubyte.gz\n"
     ]
    }
   ],
   "source": [
    "from tensorflow.examples.tutorials.mnist import input_data\n",
    "\n",
    "mnist = input_data.read_data_sets('./MNIST_data', one_hot=False)"
   ]
  },
  {
   "cell_type": "markdown",
   "metadata": {},
   "source": [
    "---"
   ]
  },
  {
   "cell_type": "markdown",
   "metadata": {},
   "source": [
    "## Build Network"
   ]
  },
  {
   "cell_type": "markdown",
   "metadata": {
    "collapsed": true
   },
   "source": [
    "Hyperparams"
   ]
  },
  {
   "cell_type": "code",
   "execution_count": 3,
   "metadata": {
    "collapsed": true
   },
   "outputs": [],
   "source": [
    "learning_rate = 0.0001\n",
    "batch_size    = 256\n",
    "\n",
    "image_size    = 784\n",
    "hidden_1_size = 256\n",
    "hidden_2_size = 128\n",
    "encoder_size  = 10"
   ]
  },
  {
   "cell_type": "markdown",
   "metadata": {},
   "source": [
    "Placeholders"
   ]
  },
  {
   "cell_type": "code",
   "execution_count": 4,
   "metadata": {
    "collapsed": true
   },
   "outputs": [],
   "source": [
    "with tf.name_scope('Placeholder'):\n",
    "    image = tf.placeholder(shape=[None, image_size], dtype=tf.float32, name='image')"
   ]
  },
  {
   "cell_type": "markdown",
   "metadata": {},
   "source": [
    "Encoder"
   ]
  },
  {
   "cell_type": "code",
   "execution_count": 5,
   "metadata": {},
   "outputs": [],
   "source": [
    "with tf.name_scope('Encoder'):\n",
    "    \"\"\"\n",
    "      784 -> 256 -> 128 -> 10\n",
    "    \"\"\"\n",
    "    encoder_hidden_1 = tf.layers.dense(\n",
    "        inputs=image,\n",
    "        units=hidden_1_size,\n",
    "        activation=tf.nn.relu,\n",
    "        name='Encoder_hidden_1'\n",
    "    )\n",
    "    encoder_hidden_2 = tf.layers.dense(\n",
    "        inputs=encoder_hidden_1,\n",
    "        units=hidden_2_size,\n",
    "        activation=tf.nn.relu,\n",
    "        name='Encoder_hidden_2'\n",
    "    )\n",
    "    encoder_output = tf.layers.dense(\n",
    "        inputs=encoder_hidden_1,\n",
    "        units=encoder_size,\n",
    "        activation=tf.nn.relu,\n",
    "        name='Encoder_output'\n",
    "    )"
   ]
  },
  {
   "cell_type": "markdown",
   "metadata": {},
   "source": [
    "Decoder"
   ]
  },
  {
   "cell_type": "code",
   "execution_count": 6,
   "metadata": {
    "collapsed": true
   },
   "outputs": [],
   "source": [
    "with tf.name_scope('Decoder'):\n",
    "    \"\"\"\n",
    "      10 -> 128 -> 256 -> 784\n",
    "    \"\"\"\n",
    "    decoder_hidden_2 = tf.layers.dense(\n",
    "        inputs=encoder_output,\n",
    "        units=hidden_2_size,\n",
    "        activation=tf.nn.relu,\n",
    "        name='Decoder_hidden_2'\n",
    "    )\n",
    "    decoder_hidden_1 = tf.layers.dense(\n",
    "        inputs=decoder_hidden_2,\n",
    "        units=hidden_1_size,\n",
    "        activation=tf.nn.relu,\n",
    "        name='Decoder_hidden_1'\n",
    "    )\n",
    "    decoder_output = tf.layers.dense(\n",
    "        inputs=decoder_hidden_1,\n",
    "        units=image_size,\n",
    "        activation=tf.nn.relu,\n",
    "        name='Decoder_output'\n",
    "    )"
   ]
  },
  {
   "cell_type": "markdown",
   "metadata": {},
   "source": [
    "Train & Loss"
   ]
  },
  {
   "cell_type": "code",
   "execution_count": 7,
   "metadata": {
    "collapsed": true
   },
   "outputs": [],
   "source": [
    "with tf.name_scope('Train_and_loss'):\n",
    "    loss = tf.losses.mean_squared_error(labels=image, predictions=decoder_output)\n",
    "    train = tf.train.AdamOptimizer(learning_rate).minimize(loss)"
   ]
  },
  {
   "cell_type": "markdown",
   "metadata": {},
   "source": [
    "## Train the network"
   ]
  },
  {
   "cell_type": "code",
   "execution_count": 59,
   "metadata": {},
   "outputs": [
    {
     "name": "stdout",
     "output_type": "stream",
     "text": [
      "Loss 0.111013\n",
      "Loss 0.0344084\n",
      "Loss 0.0313694\n",
      "Loss 0.0309787\n",
      "Loss 0.0283305\n",
      "Loss 0.0285178\n",
      "Loss 0.0258695\n",
      "Loss 0.0270037\n",
      "Loss 0.0258607\n",
      "Loss 0.0254278\n",
      "Loss 0.0250566\n"
     ]
    }
   ],
   "source": [
    "sess = tf.Session()\n",
    "\n",
    "# Init\n",
    "sess.run(tf.global_variables_initializer())\n",
    "\n",
    "for i in range(10001):\n",
    "    sess.run(train, feed_dict={\n",
    "        image: mnist.train.next_batch(batch_size)[0]\n",
    "    })\n",
    "    if i%1000 == 0:\n",
    "        print(\"Loss\", sess.run(loss, feed_dict={\n",
    "            image: mnist.validation.next_batch(batch_size)[0]\n",
    "        }))"
   ]
  },
  {
   "cell_type": "markdown",
   "metadata": {},
   "source": [
    "## Compare Images"
   ]
  },
  {
   "cell_type": "code",
   "execution_count": 91,
   "metadata": {},
   "outputs": [
    {
     "data": {
      "image/png": "[encoded data removed]",
      "text/plain": [
       "<matplotlib.figure.Figure at 0x12861ba20>"
      ]
     },
     "metadata": {},
     "output_type": "display_data"
    },
    {
     "data": {
      "image/png": "[encoded data removed]",
      "text/plain": [
       "<matplotlib.figure.Figure at 0x12c555be0>"
      ]
     },
     "metadata": {},
     "output_type": "display_data"
    }
   ],
   "source": [
    "# Test encoding & decoding\n",
    "encode_img = mnist.test.next_batch(1)[0]\n",
    "decode_img = sess.run(decoder_output, feed_dict={image: encode_img})[0]\n",
    "\n",
    "plt.figure()\n",
    "plt.xticks(())\n",
    "plt.yticks(())\n",
    "plt.title('Input Image')\n",
    "plt.imshow(encode_img[0].reshape((28, 28)))\n",
    "\n",
    "plt.figure()\n",
    "plt.xticks(())\n",
    "plt.yticks(())\n",
    "plt.title('Output Image')\n",
    "plt.imshow(decode_img.reshape((28, 28)))\n",
    "plt.show()"
   ]
  },
  {
   "cell_type": "markdown",
   "metadata": {},
   "source": [
    "## See their clustering"
   ]
  },
  {
   "cell_type": "code",
   "execution_count": 93,
   "metadata": {},
   "outputs": [
    {
     "data": {
      "image/png": "[encoded data removed]",
      "text/plain": [
       "<matplotlib.figure.Figure at 0x1285ebc50>"
      ]
     },
     "metadata": {},
     "output_type": "display_data"
    }
   ],
   "source": [
    "img_encodings = sess.run(encoder_output, feed_dict={image: mnist.test.images})  \n",
    "img_clusters = np.argmax(img_encodings, axis=1).tolist()\n",
    "img_labels = mnist.test.labels.tolist()\n",
    "\n",
    "grid = np.zeros((10,10))\n",
    "for label, cluster in zip(img_labels, img_clusters):\n",
    "    grid[label][cluster] = grid[label][cluster] + 1\n",
    "grid = grid / np.sum(grid, axis=1)\n",
    "\n",
    "plt.imshow(grid, cmap='gray')\n",
    "plt.xticks(())\n",
    "plt.yticks(())\n",
    "plt.show()"
   ]
  }
 ],
 "metadata": {
  "kernelspec": {
   "display_name": "Python 3",
   "language": "python",
   "name": "python3"
  },
  "language_info": {
   "codemirror_mode": {
    "name": "ipython",
    "version": 3
   },
   "file_extension": ".py",
   "mimetype": "text/x-python",
   "name": "python",
   "nbconvert_exporter": "python",
   "pygments_lexer": "ipython3",
   "version": "3.6.2"
  }
 },
 "nbformat": 4,
 "nbformat_minor": 2
}
