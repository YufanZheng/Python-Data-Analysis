{
 "cells": [
  {
   "cell_type": "markdown",
   "metadata": {},
   "source": [
    "# TensorFlow Name Scope"
   ]
  },
  {
   "cell_type": "code",
   "execution_count": 1,
   "metadata": {},
   "outputs": [
    {
     "name": "stderr",
     "output_type": "stream",
     "text": [
      "/anaconda/lib/python3.6/importlib/_bootstrap.py:205: RuntimeWarning: compiletime version 3.5 of module 'tensorflow.python.framework.fast_tensor_util' does not match runtime version 3.6\n",
      "  return f(*args, **kwds)\n"
     ]
    }
   ],
   "source": [
    "import tensorflow as tf"
   ]
  },
  {
   "cell_type": "markdown",
   "metadata": {},
   "source": [
    "## Name Scope"
   ]
  },
  {
   "cell_type": "code",
   "execution_count": 2,
   "metadata": {
    "collapsed": true
   },
   "outputs": [],
   "source": [
    "with tf.name_scope('a_name_scope'):\n",
    "    var_1 = tf.get_variable(name='var_1', dtype=tf.float32, shape=[1], initializer=tf.random_normal_initializer)\n",
    "    var_2  = tf.Variable   (name='var_2', dtype=tf.float32, initial_value=[1])\n",
    "    var_21 = tf.Variable   (name='var_2', dtype=tf.float32, initial_value=[2])\n",
    "    var_22 = tf.Variable   (name='var_2', dtype=tf.float32, initial_value=[3])"
   ]
  },
  {
   "cell_type": "code",
   "execution_count": 4,
   "metadata": {},
   "outputs": [
    {
     "name": "stdout",
     "output_type": "stream",
     "text": [
      "[-0.24431667]\n",
      "var_1:0\n",
      "[ 1.]\n",
      "a_name_scope/var_2:0\n",
      "[ 2.]\n",
      "a_name_scope/var_2_1:0\n",
      "[ 3.]\n",
      "a_name_scope/var_2_2:0\n"
     ]
    }
   ],
   "source": [
    "with tf.Session() as sess:\n",
    "    sess.run(tf.global_variables_initializer())\n",
    "    print(sess.run(var_1))\n",
    "    print(var_1.name)\n",
    "    print(sess.run(var_2))\n",
    "    print(var_2.name)\n",
    "    print(sess.run(var_21))\n",
    "    print(var_21.name)\n",
    "    print(sess.run(var_22))\n",
    "    print(var_22.name)"
   ]
  },
  {
   "cell_type": "markdown",
   "metadata": {
    "collapsed": true
   },
   "source": [
    "## Variable Scope"
   ]
  },
  {
   "cell_type": "code",
   "execution_count": 5,
   "metadata": {
    "collapsed": true
   },
   "outputs": [],
   "source": [
    "with tf.variable_scope('a_variable_scope') as scope:\n",
    "    var_3 = tf.get_variable(name='var_3', dtype=tf.float32, shape=[1], initializer=tf.random_normal_initializer)\n",
    "    scope.reuse_variables() # will not success if we don't have this\n",
    "    var_3_reuse = tf.get_variable(name='var_3')\n",
    "    \n",
    "    var_4  = tf.Variable(name='var_4', dtype=tf.float32, initial_value=[1])\n",
    "    var_41 = tf.Variable(name='var_4', dtype=tf.float32, initial_value=[2])"
   ]
  },
  {
   "cell_type": "code",
   "execution_count": 6,
   "metadata": {},
   "outputs": [
    {
     "name": "stdout",
     "output_type": "stream",
     "text": [
      "[-0.6549595]\n",
      "a_variable_scope/var_3:0\n",
      "[-0.6549595]\n",
      "a_variable_scope/var_3:0\n",
      "[ 1.]\n",
      "a_variable_scope/var_4:0\n",
      "[ 2.]\n",
      "a_variable_scope/var_4_1:0\n"
     ]
    }
   ],
   "source": [
    "with tf.Session() as sess:\n",
    "    sess.run(tf.global_variables_initializer())\n",
    "    print(sess.run(var_3))\n",
    "    print(var_3.name)\n",
    "    print(sess.run(var_3_reuse))\n",
    "    print(var_3_reuse.name)\n",
    "    print(sess.run(var_4))\n",
    "    print(var_4.name)\n",
    "    print(sess.run(var_41))\n",
    "    print(var_41.name)"
   ]
  }
 ],
 "metadata": {
  "kernelspec": {
   "display_name": "Python 3",
   "language": "python",
   "name": "python3"
  },
  "language_info": {
   "codemirror_mode": {
    "name": "ipython",
    "version": 3
   },
   "file_extension": ".py",
   "mimetype": "text/x-python",
   "name": "python",
   "nbconvert_exporter": "python",
   "pygments_lexer": "ipython3",
   "version": "3.6.2"
  }
 },
 "nbformat": 4,
 "nbformat_minor": 2
}
