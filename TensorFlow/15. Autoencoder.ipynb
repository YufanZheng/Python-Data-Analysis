{
 "cells": [
  {
   "cell_type": "markdown",
   "metadata": {},
   "source": [
    "# TensorFlow Autoencoder"
   ]
  },
  {
   "cell_type": "code",
   "execution_count": 1,
   "metadata": {},
   "outputs": [
    {
     "name": "stderr",
     "output_type": "stream",
     "text": [
      "/anaconda/lib/python3.6/importlib/_bootstrap.py:205: RuntimeWarning: compiletime version 3.5 of module 'tensorflow.python.framework.fast_tensor_util' does not match runtime version 3.6\n",
      "  return f(*args, **kwds)\n"
     ]
    }
   ],
   "source": [
    "import tensorflow as tf\n",
    "import numpy as np\n",
    "import matplotlib.pyplot as plt"
   ]
  },
  {
   "cell_type": "markdown",
   "metadata": {},
   "source": [
    "## Import MNIST Dataset"
   ]
  },
  {
   "cell_type": "code",
   "execution_count": 3,
   "metadata": {},
   "outputs": [
    {
     "name": "stdout",
     "output_type": "stream",
     "text": [
      "Extracting ./MNIST_data/train-images-idx3-ubyte.gz\n",
      "Extracting ./MNIST_data/train-labels-idx1-ubyte.gz\n",
      "Extracting ./MNIST_data/t10k-images-idx3-ubyte.gz\n",
      "Extracting ./MNIST_data/t10k-labels-idx1-ubyte.gz\n"
     ]
    }
   ],
   "source": [
    "from tensorflow.examples.tutorials.mnist import input_data\n",
    "\n",
    "mnist = input_data.read_data_sets('./MNIST_data', one_hot=False)"
   ]
  },
  {
   "cell_type": "markdown",
   "metadata": {},
   "source": [
    "---"
   ]
  },
  {
   "cell_type": "markdown",
   "metadata": {},
   "source": [
    "## Build Network"
   ]
  },
  {
   "cell_type": "markdown",
   "metadata": {
    "collapsed": true
   },
   "source": [
    "Hyperparams"
   ]
  },
  {
   "cell_type": "code",
   "execution_count": 16,
   "metadata": {
    "collapsed": true
   },
   "outputs": [],
   "source": [
    "learning_rate = 0.0001\n",
    "batch_size    = 256\n",
    "\n",
    "image_size    = 784\n",
    "hidden_1_size = 256\n",
    "hidden_2_size = 128\n",
    "encoder_size  = 10"
   ]
  },
  {
   "cell_type": "markdown",
   "metadata": {},
   "source": [
    "Placeholders"
   ]
  },
  {
   "cell_type": "code",
   "execution_count": 13,
   "metadata": {
    "collapsed": true
   },
   "outputs": [],
   "source": [
    "with tf.name_scope('Placeholder'):\n",
    "    image = tf.placeholder(shape=[None, image_size], dtype=tf.float32, name='image')"
   ]
  },
  {
   "cell_type": "markdown",
   "metadata": {},
   "source": [
    "Encoder"
   ]
  },
  {
   "cell_type": "code",
   "execution_count": 17,
   "metadata": {
    "collapsed": true
   },
   "outputs": [],
   "source": [
    "with tf.name_scope('Encoder'):\n",
    "    \"\"\"\n",
    "      784 -> 256 -> 128 -> 10\n",
    "    \"\"\"\n",
    "    encoder_hidden_1 = tf.layers.dense(\n",
    "        inputs=image,\n",
    "        units=hidden_1_size,\n",
    "        activation=tf.nn.relu,\n",
    "        name='Encoder_hidden_1'\n",
    "    )\n",
    "    encoder_hidden_2 = tf.layers.dense(\n",
    "        inputs=encoder_hidden_1,\n",
    "        units=hidden_2_size,\n",
    "        activation=tf.nn.relu,\n",
    "        name='Encoder_hidden_2'\n",
    "    )\n",
    "    encoder_output = tf.layers.dense(\n",
    "        inputs=encoder_hidden_1,\n",
    "        units=encoder_size,\n",
    "        activation=tf.nn.relu,\n",
    "        name='Encoder_output'\n",
    "    )"
   ]
  },
  {
   "cell_type": "markdown",
   "metadata": {},
   "source": [
    "Decoder"
   ]
  },
  {
   "cell_type": "code",
   "execution_count": 19,
   "metadata": {
    "collapsed": true
   },
   "outputs": [],
   "source": [
    "with tf.name_scope('Decoder'):\n",
    "    \"\"\"\n",
    "      10 -> 128 -> 256 -> 784\n",
    "    \"\"\"\n",
    "    decoder_hidden_2 = tf.layers.dense(\n",
    "        inputs=encoder_output,\n",
    "        units=hidden_2_size,\n",
    "        activation=tf.nn.relu,\n",
    "        name='Decoder_hidden_2'\n",
    "    )\n",
    "    decoder_hidden_1 = tf.layers.dense(\n",
    "        inputs=decoder_hidden_2,\n",
    "        units=hidden_1_size,\n",
    "        activation=tf.nn.relu,\n",
    "        name='Decoder_hidden_1'\n",
    "    )\n",
    "    decoder_output = tf.layers.dense(\n",
    "        inputs=decoder_hidden_1,\n",
    "        units=image_size,\n",
    "        activation=tf.nn.relu,\n",
    "        name='Decoder_output'\n",
    "    )"
   ]
  },
  {
   "cell_type": "markdown",
   "metadata": {},
   "source": [
    "Train & Loss"
   ]
  },
  {
   "cell_type": "code",
   "execution_count": 21,
   "metadata": {
    "collapsed": true
   },
   "outputs": [],
   "source": [
    "with tf.name_scope('Train_and_loss'):\n",
    "    loss = tf.losses.mean_squared_error(labels=image, predictions=decoder_output)\n",
    "    train = tf.train.AdamOptimizer(learning_rate).minimize(loss)"
   ]
  },
  {
   "cell_type": "markdown",
   "metadata": {},
   "source": [
    "## Train the network"
   ]
  },
  {
   "cell_type": "code",
   "execution_count": 39,
   "metadata": {},
   "outputs": [
    {
     "name": "stdout",
     "output_type": "stream",
     "text": [
      "Loss 0.106705\n",
      "Loss 0.0214677\n",
      "Loss 0.0209975\n",
      "Loss 0.0193548\n",
      "Loss 0.0174813\n",
      "Loss 0.0185358\n",
      "Loss 0.0180535\n",
      "Loss 0.0168436\n",
      "Loss 0.0169895\n",
      "Loss 0.0173681\n",
      "Loss 0.0158721\n"
     ]
    },
    {
     "data": {
      "image/png": "[encoded data removed]",
      "text/plain": [
       "<matplotlib.figure.Figure at 0x125328dd8>"
      ]
     },
     "metadata": {},
     "output_type": "display_data"
    },
    {
     "data": {
      "image/png": "[encoded data removed]",
      "text/plain": [
       "<matplotlib.figure.Figure at 0x105b38358>"
      ]
     },
     "metadata": {},
     "output_type": "display_data"
    }
   ],
   "source": [
    "with tf.Session() as sess:\n",
    "\n",
    "    # Init\n",
    "    sess.run(tf.global_variables_initializer())\n",
    "\n",
    "    for i in range(10001):\n",
    "        sess.run(train, feed_dict={\n",
    "            image: mnist.train.next_batch(batch_size)[0]\n",
    "        })\n",
    "        if i%1000 == 0:\n",
    "            print(\"Loss\", sess.run(loss, feed_dict={\n",
    "                image: mnist.train.next_batch(100)[0]\n",
    "            }))\n",
    "\n",
    "    # Test encoding & decoding\n",
    "    input_img   =  mnist.test.next_batch(1)[0]\n",
    "    predict_img = sess.run(decoder_output, feed_dict={image: input_img})[0]\n",
    "\n",
    "    plt.figure()\n",
    "    plt.xticks(())\n",
    "    plt.yticks(())\n",
    "    plt.title('Input Image')\n",
    "    plt.imshow(input_img[0].reshape((28, 28)))\n",
    "\n",
    "    plt.figure()\n",
    "    plt.xticks(())\n",
    "    plt.yticks(())\n",
    "    plt.title('Output Image')\n",
    "    plt.imshow(predict_img.reshape((28, 28)))\n",
    "    plt.show()"
   ]
  }
 ],
 "metadata": {
  "kernelspec": {
   "display_name": "Python 3",
   "language": "python",
   "name": "python3"
  },
  "language_info": {
   "codemirror_mode": {
    "name": "ipython",
    "version": 3
   },
   "file_extension": ".py",
   "mimetype": "text/x-python",
   "name": "python",
   "nbconvert_exporter": "python",
   "pygments_lexer": "ipython3",
   "version": "3.6.2"
  }
 },
 "nbformat": 4,
 "nbformat_minor": 2
}
