{
 "cells": [
  {
   "cell_type": "markdown",
   "metadata": {},
   "source": [
    "# TensorFlow Dropout Overfitting"
   ]
  },
  {
   "cell_type": "code",
   "execution_count": 1,
   "metadata": {},
   "outputs": [
    {
     "name": "stderr",
     "output_type": "stream",
     "text": [
      "/anaconda/lib/python3.6/importlib/_bootstrap.py:205: RuntimeWarning: compiletime version 3.5 of module 'tensorflow.python.framework.fast_tensor_util' does not match runtime version 3.6\n",
      "  return f(*args, **kwds)\n"
     ]
    }
   ],
   "source": [
    "import tensorflow as tf\n",
    "from sklearn.datasets import load_digits\n",
    "from sklearn.cross_validation import train_test_split\n",
    "from sklearn.preprocessing import LabelBinarizer"
   ]
  },
  {
   "cell_type": "markdown",
   "metadata": {},
   "source": [
    "## Load data"
   ]
  },
  {
   "cell_type": "code",
   "execution_count": 50,
   "metadata": {
    "collapsed": true
   },
   "outputs": [],
   "source": [
    "digits = load_digits()\n",
    "X = digits.data\n",
    "X = X / X.max()\n",
    "y = digits.target\n",
    "y = LabelBinarizer().fit_transform(y)"
   ]
  },
  {
   "cell_type": "markdown",
   "metadata": {},
   "source": [
    "## Train test split"
   ]
  },
  {
   "cell_type": "code",
   "execution_count": 51,
   "metadata": {
    "collapsed": true
   },
   "outputs": [],
   "source": [
    "X_train, X_test, y_train, y_test = train_test_split(X, y, test_size=.3)"
   ]
  },
  {
   "cell_type": "markdown",
   "metadata": {},
   "source": [
    "## Add layer function"
   ]
  },
  {
   "cell_type": "code",
   "execution_count": 52,
   "metadata": {
    "collapsed": true
   },
   "outputs": [],
   "source": [
    "def add_layer(inputs, in_size, out_size, keep_prob, activation_function=None):\n",
    "    Weights = tf.Variable(tf.random_normal(shape=[in_size,out_size], dtype=tf.float32))\n",
    "    biases  = tf.Variable(tf.zeros(shape=[1, out_size], dtype=tf.float32)+0.1)\n",
    "    Wx_plus_b = tf.matmul(inputs, Weights) + biases\n",
    "    \n",
    "    # Dropout here\n",
    "    Wx_plus_b = tf.nn.dropout(Wx_plus_b, keep_prob)\n",
    "    \n",
    "    if activation_function is None:\n",
    "        return Wx_plus_b\n",
    "    else:\n",
    "        return activation_function(Wx_plus_b)"
   ]
  },
  {
   "cell_type": "markdown",
   "metadata": {},
   "source": [
    "## Build neural network"
   ]
  },
  {
   "cell_type": "code",
   "execution_count": 53,
   "metadata": {},
   "outputs": [],
   "source": [
    "xs = tf.placeholder(shape=[None, 64], dtype=tf.float32, name='data')\n",
    "ys = tf.placeholder(shape=[None, 10], dtype=tf.float32, name='target')\n",
    "\n",
    "# Dropout keep prob\n",
    "keep_prob = tf.placeholder(dtype=tf.float32)\n",
    "\n",
    "hidden_layer = add_layer(xs,           64, 32, keep_prob, tf.nn.tanh)\n",
    "prediction   = add_layer(hidden_layer, 32, 10, keep_prob, tf.nn.softmax)"
   ]
  },
  {
   "cell_type": "markdown",
   "metadata": {},
   "source": [
    "## Loss and train step"
   ]
  },
  {
   "cell_type": "code",
   "execution_count": 54,
   "metadata": {
    "collapsed": true
   },
   "outputs": [],
   "source": [
    "cross_entropy = tf.reduce_mean(-tf.reduce_sum(ys*tf.log(prediction), reduction_indices=[1]))\n",
    "train_step = tf.train.GradientDescentOptimizer(0.6).minimize(cross_entropy)"
   ]
  },
  {
   "cell_type": "markdown",
   "metadata": {},
   "source": [
    "## Start Training"
   ]
  },
  {
   "cell_type": "code",
   "execution_count": 58,
   "metadata": {},
   "outputs": [
    {
     "name": "stdout",
     "output_type": "stream",
     "text": [
      "Step 0 ------------\n",
      "Train loss: 4.52247\n",
      "Test  loss: 4.27316\n",
      "Step 50 ------------\n",
      "Train loss: 0.519279\n",
      "Test  loss: 0.621414\n",
      "Step 100 ------------\n",
      "Train loss: 0.298374\n",
      "Test  loss: 0.389788\n",
      "Step 150 ------------\n",
      "Train loss: 0.23237\n",
      "Test  loss: 0.312131\n",
      "Step 200 ------------\n",
      "Train loss: 0.197495\n",
      "Test  loss: 0.273861\n",
      "Step 250 ------------\n",
      "Train loss: 0.173118\n",
      "Test  loss: 0.242986\n",
      "Step 300 ------------\n",
      "Train loss: 0.159144\n",
      "Test  loss: 0.225545\n",
      "Step 350 ------------\n",
      "Train loss: 0.147115\n",
      "Test  loss: 0.203126\n",
      "Step 400 ------------\n",
      "Train loss: 0.136872\n",
      "Test  loss: 0.1958\n",
      "Step 450 ------------\n",
      "Train loss: 0.128238\n",
      "Test  loss: 0.186488\n",
      "--------------------------\n"
     ]
    },
    {
     "data": {
      "image/png": "[encoded data removed]",
      "text/plain": [
       "<matplotlib.figure.Figure at 0x10242df98>"
      ]
     },
     "metadata": {},
     "output_type": "display_data"
    },
    {
     "name": "stdout",
     "output_type": "stream",
     "text": [
      "Prediction: 2\n"
     ]
    }
   ],
   "source": [
    "with tf.Session() as sess:\n",
    "    \n",
    "    sess.run(tf.global_variables_initializer())\n",
    "    \n",
    "    for i in range(500):\n",
    "        sess.run(train_step, feed_dict={xs: X_train, ys: y_train, keep_prob: 0.6})\n",
    "        if i % 50 == 0:\n",
    "            print(\"Step\", i, '------------')\n",
    "            print('Train loss:', sess.run(cross_entropy, feed_dict={xs: X_train, ys: y_train, keep_prob: 1} ))\n",
    "            print('Test  loss:', sess.run(cross_entropy, feed_dict={xs: X_test,  ys: y_test , keep_prob: 1} ))\n",
    "            \n",
    "    import matplotlib.pyplot as plt\n",
    "    import numpy as np\n",
    "    \n",
    "    print('--------------------------')\n",
    "    \n",
    "    i = np.random.randint(0, X_train.shape[0])\n",
    "    \n",
    "    plt.imshow(X_train[i].reshape(8,8), cmap='gray')\n",
    "    plt.show()\n",
    "    \n",
    "    print('Prediction:', np.argmax(sess.run(prediction, feed_dict={xs: X_train[i][np.newaxis,:], keep_prob: 1})))"
   ]
  }
 ],
 "metadata": {
  "kernelspec": {
   "display_name": "Python 3",
   "language": "python",
   "name": "python3"
  },
  "language_info": {
   "codemirror_mode": {
    "name": "ipython",
    "version": 3
   },
   "file_extension": ".py",
   "mimetype": "text/x-python",
   "name": "python",
   "nbconvert_exporter": "python",
   "pygments_lexer": "ipython3",
   "version": "3.6.2"
  }
 },
 "nbformat": 4,
 "nbformat_minor": 2
}
