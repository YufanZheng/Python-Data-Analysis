{
 "cells": [
  {
   "cell_type": "markdown",
   "metadata": {},
   "source": [
    "# WSDM - KKBox's Music Recommendation Challenge"
   ]
  },
  {
   "cell_type": "code",
   "execution_count": 37,
   "metadata": {
    "collapsed": true
   },
   "outputs": [],
   "source": [
    "import numpy as np\n",
    "import pandas as pd\n",
    "import matplotlib.pyplot as plt"
   ]
  },
  {
   "cell_type": "markdown",
   "metadata": {},
   "source": [
    "## Load the data"
   ]
  },
  {
   "cell_type": "code",
   "execution_count": 38,
   "metadata": {},
   "outputs": [],
   "source": [
    "data = pd.read_csv(\"./processed/train.csv.gz\", compression=\"gzip\")\n",
    "test = pd.read_csv(\"./processed/test.csv.gz\", compression=\"gzip\")\n",
    "user = pd.read_csv(\"./processed/members.csv.gz\", compression=\"gzip\")\n",
    "song = pd.read_csv(\"./processed/songs.csv.gz\", compression=\"gzip\")\n",
    "extraSong = pd.read_csv(\"./processed/song_extra_info.csv.gz\", compression=\"gzip\")"
   ]
  },
  {
   "cell_type": "markdown",
   "metadata": {},
   "source": [
    "## Merge all dataset into a single table"
   ]
  },
  {
   "cell_type": "markdown",
   "metadata": {},
   "source": [
    "Merge train data and eval data"
   ]
  },
  {
   "cell_type": "code",
   "execution_count": 39,
   "metadata": {
    "collapsed": true
   },
   "outputs": [],
   "source": [
    "data = pd.merge(data, user, on='msno', how='left')\n",
    "data = pd.merge(data, song, on='song_id', how='left')\n",
    "data = pd.merge(data, extraSong, on='song_id', how='left')\n",
    "data = data.fillna(-1)"
   ]
  },
  {
   "cell_type": "markdown",
   "metadata": {},
   "source": [
    "Merge test data"
   ]
  },
  {
   "cell_type": "code",
   "execution_count": 40,
   "metadata": {
    "collapsed": true
   },
   "outputs": [],
   "source": [
    "test = pd.merge(test, user, on='msno', how='left')\n",
    "test = pd.merge(test, song, on='song_id', how='left')\n",
    "test = pd.merge(test, extraSong, on='song_id', how='left')\n",
    "test = test.fillna(-1)"
   ]
  },
  {
   "cell_type": "markdown",
   "metadata": {},
   "source": [
    "## Have a look at the entire table and columns for the prediction"
   ]
  },
  {
   "cell_type": "code",
   "execution_count": 41,
   "metadata": {},
   "outputs": [
    {
     "data": {
      "text/html": [
       "<div>\n",
       "<style>\n",
       "    .dataframe thead tr:only-child th {\n",
       "        text-align: right;\n",
       "    }\n",
       "\n",
       "    .dataframe thead th {\n",
       "        text-align: left;\n",
       "    }\n",
       "\n",
       "    .dataframe tbody tr th {\n",
       "        vertical-align: top;\n",
       "    }\n",
       "</style>\n",
       "<table border=\"1\" class=\"dataframe\">\n",
       "  <thead>\n",
       "    <tr style=\"text-align: right;\">\n",
       "      <th></th>\n",
       "      <th>msno</th>\n",
       "      <th>song_id</th>\n",
       "      <th>source_system_tab</th>\n",
       "      <th>source_screen_name</th>\n",
       "      <th>source_type</th>\n",
       "      <th>target</th>\n",
       "      <th>city</th>\n",
       "      <th>bd</th>\n",
       "      <th>gender</th>\n",
       "      <th>registered_via</th>\n",
       "      <th>...</th>\n",
       "      <th>expiration_date</th>\n",
       "      <th>song_length</th>\n",
       "      <th>genre_ids</th>\n",
       "      <th>artist_name</th>\n",
       "      <th>composer</th>\n",
       "      <th>lyricist</th>\n",
       "      <th>language</th>\n",
       "      <th>name</th>\n",
       "      <th>isrc</th>\n",
       "      <th>ccodes</th>\n",
       "    </tr>\n",
       "  </thead>\n",
       "  <tbody>\n",
       "    <tr>\n",
       "      <th>0</th>\n",
       "      <td>9176</td>\n",
       "      <td>474849</td>\n",
       "      <td>1</td>\n",
       "      <td>7</td>\n",
       "      <td>6</td>\n",
       "      <td>1</td>\n",
       "      <td>0</td>\n",
       "      <td>2</td>\n",
       "      <td>2</td>\n",
       "      <td>2</td>\n",
       "      <td>...</td>\n",
       "      <td>20171005</td>\n",
       "      <td>45944.0</td>\n",
       "      <td>535.0</td>\n",
       "      <td>18678.0</td>\n",
       "      <td>68708.0</td>\n",
       "      <td>82979.0</td>\n",
       "      <td>8.0</td>\n",
       "      <td>316725.0</td>\n",
       "      <td>GBUM71602854</td>\n",
       "      <td>5981.0</td>\n",
       "    </tr>\n",
       "    <tr>\n",
       "      <th>1</th>\n",
       "      <td>19273</td>\n",
       "      <td>1425656</td>\n",
       "      <td>3</td>\n",
       "      <td>8</td>\n",
       "      <td>4</td>\n",
       "      <td>1</td>\n",
       "      <td>11</td>\n",
       "      <td>21</td>\n",
       "      <td>0</td>\n",
       "      <td>3</td>\n",
       "      <td>...</td>\n",
       "      <td>20170911</td>\n",
       "      <td>76229.0</td>\n",
       "      <td>176.0</td>\n",
       "      <td>195506.0</td>\n",
       "      <td>286899.0</td>\n",
       "      <td>82979.0</td>\n",
       "      <td>8.0</td>\n",
       "      <td>498977.0</td>\n",
       "      <td>US3C69910183</td>\n",
       "      <td>11873.0</td>\n",
       "    </tr>\n",
       "    <tr>\n",
       "      <th>2</th>\n",
       "      <td>19273</td>\n",
       "      <td>768950</td>\n",
       "      <td>3</td>\n",
       "      <td>8</td>\n",
       "      <td>4</td>\n",
       "      <td>1</td>\n",
       "      <td>11</td>\n",
       "      <td>21</td>\n",
       "      <td>0</td>\n",
       "      <td>3</td>\n",
       "      <td>...</td>\n",
       "      <td>20170911</td>\n",
       "      <td>53693.0</td>\n",
       "      <td>176.0</td>\n",
       "      <td>129054.0</td>\n",
       "      <td>210645.0</td>\n",
       "      <td>82979.0</td>\n",
       "      <td>8.0</td>\n",
       "      <td>351234.0</td>\n",
       "      <td>USUM70618761</td>\n",
       "      <td>13443.0</td>\n",
       "    </tr>\n",
       "    <tr>\n",
       "      <th>3</th>\n",
       "      <td>19273</td>\n",
       "      <td>150624</td>\n",
       "      <td>3</td>\n",
       "      <td>8</td>\n",
       "      <td>4</td>\n",
       "      <td>1</td>\n",
       "      <td>11</td>\n",
       "      <td>21</td>\n",
       "      <td>0</td>\n",
       "      <td>3</td>\n",
       "      <td>...</td>\n",
       "      <td>20170911</td>\n",
       "      <td>65705.0</td>\n",
       "      <td>7.0</td>\n",
       "      <td>167740.0</td>\n",
       "      <td>170530.0</td>\n",
       "      <td>82979.0</td>\n",
       "      <td>0.0</td>\n",
       "      <td>213919.0</td>\n",
       "      <td>GBUQH1000063</td>\n",
       "      <td>5994.0</td>\n",
       "    </tr>\n",
       "    <tr>\n",
       "      <th>4</th>\n",
       "      <td>9176</td>\n",
       "      <td>210388</td>\n",
       "      <td>1</td>\n",
       "      <td>7</td>\n",
       "      <td>6</td>\n",
       "      <td>1</td>\n",
       "      <td>0</td>\n",
       "      <td>2</td>\n",
       "      <td>2</td>\n",
       "      <td>2</td>\n",
       "      <td>...</td>\n",
       "      <td>20171005</td>\n",
       "      <td>38606.0</td>\n",
       "      <td>3.0</td>\n",
       "      <td>25820.0</td>\n",
       "      <td>40768.0</td>\n",
       "      <td>82979.0</td>\n",
       "      <td>8.0</td>\n",
       "      <td>749571.0</td>\n",
       "      <td>QM3E21606003</td>\n",
       "      <td>8604.0</td>\n",
       "    </tr>\n",
       "  </tbody>\n",
       "</table>\n",
       "<p>5 rows × 21 columns</p>\n",
       "</div>"
      ],
      "text/plain": [
       "    msno  song_id  source_system_tab  source_screen_name  source_type  target  \\\n",
       "0   9176   474849                  1                   7            6       1   \n",
       "1  19273  1425656                  3                   8            4       1   \n",
       "2  19273   768950                  3                   8            4       1   \n",
       "3  19273   150624                  3                   8            4       1   \n",
       "4   9176   210388                  1                   7            6       1   \n",
       "\n",
       "   city  bd  gender  registered_via   ...     expiration_date  song_length  \\\n",
       "0     0   2       2               2   ...            20171005      45944.0   \n",
       "1    11  21       0               3   ...            20170911      76229.0   \n",
       "2    11  21       0               3   ...            20170911      53693.0   \n",
       "3    11  21       0               3   ...            20170911      65705.0   \n",
       "4     0   2       2               2   ...            20171005      38606.0   \n",
       "\n",
       "   genre_ids  artist_name  composer  lyricist  language      name  \\\n",
       "0      535.0      18678.0   68708.0   82979.0       8.0  316725.0   \n",
       "1      176.0     195506.0  286899.0   82979.0       8.0  498977.0   \n",
       "2      176.0     129054.0  210645.0   82979.0       8.0  351234.0   \n",
       "3        7.0     167740.0  170530.0   82979.0       0.0  213919.0   \n",
       "4        3.0      25820.0   40768.0   82979.0       8.0  749571.0   \n",
       "\n",
       "           isrc   ccodes  \n",
       "0  GBUM71602854   5981.0  \n",
       "1  US3C69910183  11873.0  \n",
       "2  USUM70618761  13443.0  \n",
       "3  GBUQH1000063   5994.0  \n",
       "4  QM3E21606003   8604.0  \n",
       "\n",
       "[5 rows x 21 columns]"
      ]
     },
     "execution_count": 41,
     "metadata": {},
     "output_type": "execute_result"
    }
   ],
   "source": [
    "data.head()"
   ]
  },
  {
   "cell_type": "markdown",
   "metadata": {},
   "source": [
    "## Do some modification on several columns"
   ]
  },
  {
   "cell_type": "code",
   "execution_count": 42,
   "metadata": {
    "collapsed": true
   },
   "outputs": [],
   "source": [
    "from sklearn import preprocessing\n",
    "\n",
    "def process(df):\n",
    "    \n",
    "    # Process song length -> minutes\n",
    "    df.song_length = df.song_length // 60000\n",
    "    \n",
    "    # Use only a few columns\n",
    "    use_columns = ['source_system_tab', 'source_screen_name', \\\n",
    "                   'source_type', 'city', 'bd', 'gender', \\\n",
    "                   'registered_via', 'song_length', 'genre_ids', \\\n",
    "                   'artist_name', 'composer', 'lyricist', \\\n",
    "                   'language', 'ccodes']\n",
    "    df = df[use_columns]\n",
    "    \n",
    "    for column in df.columns:\n",
    "        le = preprocessing.LabelEncoder()\n",
    "        le.fit(df[column])\n",
    "        df[column] = le.transform(df[column])\n",
    "    \n",
    "    return df"
   ]
  },
  {
   "cell_type": "markdown",
   "metadata": {},
   "source": [
    "## Split data into train, test and eval"
   ]
  },
  {
   "cell_type": "code",
   "execution_count": 43,
   "metadata": {},
   "outputs": [
    {
     "name": "stderr",
     "output_type": "stream",
     "text": [
      "/anaconda/lib/python3.6/site-packages/ipykernel_launcher.py:15: SettingWithCopyWarning: \n",
      "A value is trying to be set on a copy of a slice from a DataFrame.\n",
      "Try using .loc[row_indexer,col_indexer] = value instead\n",
      "\n",
      "See the caveats in the documentation: http://pandas.pydata.org/pandas-docs/stable/indexing.html#indexing-view-versus-copy\n",
      "  from ipykernel import kernelapp as app\n",
      "/anaconda/lib/python3.6/site-packages/ipykernel_launcher.py:2: SettingWithCopyWarning: \n",
      "A value is trying to be set on a copy of a slice from a DataFrame.\n",
      "Try using .loc[row_indexer,col_indexer] = value instead\n",
      "\n",
      "See the caveats in the documentation: http://pandas.pydata.org/pandas-docs/stable/indexing.html#indexing-view-versus-copy\n",
      "  \n"
     ]
    }
   ],
   "source": [
    "df     = process(data)\n",
    "df['target'] = data['target']\n",
    "# Test\n",
    "testDF = process(test)\n",
    "\n",
    "msk = np.random.rand(len(df)) < 0.8\n",
    "# Train and eval\n",
    "trainDF = df[msk]\n",
    "evalDF  = df[~msk]"
   ]
  },
  {
   "cell_type": "code",
   "execution_count": 44,
   "metadata": {},
   "outputs": [
    {
     "data": {
      "text/html": [
       "<div>\n",
       "<style>\n",
       "    .dataframe thead tr:only-child th {\n",
       "        text-align: right;\n",
       "    }\n",
       "\n",
       "    .dataframe thead th {\n",
       "        text-align: left;\n",
       "    }\n",
       "\n",
       "    .dataframe tbody tr th {\n",
       "        vertical-align: top;\n",
       "    }\n",
       "</style>\n",
       "<table border=\"1\" class=\"dataframe\">\n",
       "  <thead>\n",
       "    <tr style=\"text-align: right;\">\n",
       "      <th></th>\n",
       "      <th>source_system_tab</th>\n",
       "      <th>source_screen_name</th>\n",
       "      <th>source_type</th>\n",
       "      <th>city</th>\n",
       "      <th>bd</th>\n",
       "      <th>gender</th>\n",
       "      <th>registered_via</th>\n",
       "      <th>song_length</th>\n",
       "      <th>genre_ids</th>\n",
       "      <th>artist_name</th>\n",
       "      <th>composer</th>\n",
       "      <th>lyricist</th>\n",
       "      <th>language</th>\n",
       "      <th>ccodes</th>\n",
       "      <th>target</th>\n",
       "    </tr>\n",
       "  </thead>\n",
       "  <tbody>\n",
       "    <tr>\n",
       "      <th>0</th>\n",
       "      <td>1</td>\n",
       "      <td>7</td>\n",
       "      <td>6</td>\n",
       "      <td>0</td>\n",
       "      <td>2</td>\n",
       "      <td>2</td>\n",
       "      <td>2</td>\n",
       "      <td>1</td>\n",
       "      <td>286</td>\n",
       "      <td>3278</td>\n",
       "      <td>14582</td>\n",
       "      <td>21155</td>\n",
       "      <td>9</td>\n",
       "      <td>1846</td>\n",
       "      <td>1</td>\n",
       "    </tr>\n",
       "    <tr>\n",
       "      <th>1</th>\n",
       "      <td>3</td>\n",
       "      <td>8</td>\n",
       "      <td>4</td>\n",
       "      <td>11</td>\n",
       "      <td>21</td>\n",
       "      <td>0</td>\n",
       "      <td>3</td>\n",
       "      <td>2</td>\n",
       "      <td>91</td>\n",
       "      <td>31961</td>\n",
       "      <td>60954</td>\n",
       "      <td>21155</td>\n",
       "      <td>9</td>\n",
       "      <td>3739</td>\n",
       "      <td>1</td>\n",
       "    </tr>\n",
       "    <tr>\n",
       "      <th>3</th>\n",
       "      <td>3</td>\n",
       "      <td>8</td>\n",
       "      <td>4</td>\n",
       "      <td>11</td>\n",
       "      <td>21</td>\n",
       "      <td>0</td>\n",
       "      <td>3</td>\n",
       "      <td>2</td>\n",
       "      <td>7</td>\n",
       "      <td>27440</td>\n",
       "      <td>36701</td>\n",
       "      <td>21155</td>\n",
       "      <td>1</td>\n",
       "      <td>1850</td>\n",
       "      <td>1</td>\n",
       "    </tr>\n",
       "    <tr>\n",
       "      <th>5</th>\n",
       "      <td>1</td>\n",
       "      <td>7</td>\n",
       "      <td>6</td>\n",
       "      <td>0</td>\n",
       "      <td>2</td>\n",
       "      <td>2</td>\n",
       "      <td>2</td>\n",
       "      <td>2</td>\n",
       "      <td>91</td>\n",
       "      <td>8147</td>\n",
       "      <td>55580</td>\n",
       "      <td>21155</td>\n",
       "      <td>9</td>\n",
       "      <td>4359</td>\n",
       "      <td>1</td>\n",
       "    </tr>\n",
       "    <tr>\n",
       "      <th>6</th>\n",
       "      <td>3</td>\n",
       "      <td>8</td>\n",
       "      <td>4</td>\n",
       "      <td>11</td>\n",
       "      <td>21</td>\n",
       "      <td>0</td>\n",
       "      <td>3</td>\n",
       "      <td>1</td>\n",
       "      <td>345</td>\n",
       "      <td>2903</td>\n",
       "      <td>57876</td>\n",
       "      <td>20136</td>\n",
       "      <td>6</td>\n",
       "      <td>3376</td>\n",
       "      <td>1</td>\n",
       "    </tr>\n",
       "  </tbody>\n",
       "</table>\n",
       "</div>"
      ],
      "text/plain": [
       "   source_system_tab  source_screen_name  source_type  city  bd  gender  \\\n",
       "0                  1                   7            6     0   2       2   \n",
       "1                  3                   8            4    11  21       0   \n",
       "3                  3                   8            4    11  21       0   \n",
       "5                  1                   7            6     0   2       2   \n",
       "6                  3                   8            4    11  21       0   \n",
       "\n",
       "   registered_via  song_length  genre_ids  artist_name  composer  lyricist  \\\n",
       "0               2            1        286         3278     14582     21155   \n",
       "1               3            2         91        31961     60954     21155   \n",
       "3               3            2          7        27440     36701     21155   \n",
       "5               2            2         91         8147     55580     21155   \n",
       "6               3            1        345         2903     57876     20136   \n",
       "\n",
       "   language  ccodes  target  \n",
       "0         9    1846       1  \n",
       "1         9    3739       1  \n",
       "3         1    1850       1  \n",
       "5         9    4359       1  \n",
       "6         6    3376       1  "
      ]
     },
     "execution_count": 44,
     "metadata": {},
     "output_type": "execute_result"
    }
   ],
   "source": [
    "trainDF.head()"
   ]
  },
  {
   "cell_type": "markdown",
   "metadata": {},
   "source": [
    "# Use GBDT model to train"
   ]
  },
  {
   "cell_type": "code",
   "execution_count": 45,
   "metadata": {},
   "outputs": [
    {
     "data": {
      "text/plain": [
       "0.63179952904047076"
      ]
     },
     "execution_count": 45,
     "metadata": {},
     "output_type": "execute_result"
    }
   ],
   "source": [
    "from sklearn.ensemble import GradientBoostingClassifier\n",
    "from sklearn.metrics import accuracy_score\n",
    "\n",
    "x = trainDF.drop(\"target\", axis=1)\n",
    "y = trainDF.target\n",
    "\n",
    "clf = GradientBoostingClassifier()\n",
    "clf.fit(x, y)\n",
    "\n",
    "x_ = evalDF.drop(\"target\", axis=1)\n",
    "y_ = evalDF.target\n",
    "\n",
    "y_pred = clf.predict(x_)\n",
    "\n",
    "accuracy_score(y_, y_pred)"
   ]
  },
  {
   "cell_type": "code",
   "execution_count": 46,
   "metadata": {},
   "outputs": [],
   "source": [
    "test_pred = clf.predict(testDF)\n",
    "test = pd.read_csv(\"./processed/test.csv.gz\", compression=\"gzip\")\n",
    "test['target'] = test_pred\n",
    "resultDF = test[['id', 'target']]\n",
    "resultDF = resultDF.sort_values(by='id')\n",
    "resultDF.to_csv('./processed/my_result_2.csv.gz', compression='gzip', index=False)"
   ]
  },
  {
   "cell_type": "code",
   "execution_count": 47,
   "metadata": {},
   "outputs": [
    {
     "data": {
      "text/plain": [
       "(2556790, 2)"
      ]
     },
     "execution_count": 47,
     "metadata": {},
     "output_type": "execute_result"
    }
   ],
   "source": [
    "resultDF.shape"
   ]
  },
  {
   "cell_type": "code",
   "execution_count": null,
   "metadata": {
    "collapsed": true
   },
   "outputs": [],
   "source": []
  }
 ],
 "metadata": {
  "kernelspec": {
   "display_name": "Python 3",
   "language": "python",
   "name": "python3"
  },
  "language_info": {
   "codemirror_mode": {
    "name": "ipython",
    "version": 3
   },
   "file_extension": ".py",
   "mimetype": "text/x-python",
   "name": "python",
   "nbconvert_exporter": "python",
   "pygments_lexer": "ipython3",
   "version": "3.6.2"
  }
 },
 "nbformat": 4,
 "nbformat_minor": 2
}
