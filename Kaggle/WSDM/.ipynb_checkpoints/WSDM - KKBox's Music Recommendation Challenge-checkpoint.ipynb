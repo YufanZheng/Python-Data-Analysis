{
 "cells": [
  {
   "cell_type": "markdown",
   "metadata": {},
   "source": [
    "# WSDM - KKBox's Music Recommendation Challenge"
   ]
  },
  {
   "cell_type": "code",
   "execution_count": 11,
   "metadata": {
    "collapsed": true
   },
   "outputs": [],
   "source": [
    "import numpy as np\n",
    "import pandas as pd\n",
    "import matplotlib.pyplot as plt"
   ]
  },
  {
   "cell_type": "markdown",
   "metadata": {},
   "source": [
    "## Load the preprocessed data\n",
    "- train: training dataset\n",
    "- test: test dataset\n",
    "- items: songs\n",
    "- items_extra: extra songs information\n",
    "- users: members"
   ]
  },
  {
   "cell_type": "code",
   "execution_count": 13,
   "metadata": {
    "collapsed": true
   },
   "outputs": [],
   "source": [
    "# Use pandas to load the zip csv file\n",
    "df    = pd.read_csv('./process/train.csv.gz', compression=\"gzip\")\n",
    "test  = pd.read_csv('./process/test.csv.gz', compression=\"gzip\")\n",
    "songs = pd.read_csv('./process/songs.csv.gz', compression=\"gzip\")\n",
    "songs_extra = pd.read_csv('./process/song_extra_info.csv.gz', compression=\"gzip\")\n",
    "users = pd.read_csv('./process/members.csv.gz', compression=\"gzip\")"
   ]
  }
 ],
 "metadata": {
  "kernelspec": {
   "display_name": "Python 3",
   "language": "python",
   "name": "python3"
  },
  "language_info": {
   "codemirror_mode": {
    "name": "ipython",
    "version": 3
   },
   "file_extension": ".py",
   "mimetype": "text/x-python",
   "name": "python",
   "nbconvert_exporter": "python",
   "pygments_lexer": "ipython3",
   "version": "3.6.2"
  }
 },
 "nbformat": 4,
 "nbformat_minor": 2
}
