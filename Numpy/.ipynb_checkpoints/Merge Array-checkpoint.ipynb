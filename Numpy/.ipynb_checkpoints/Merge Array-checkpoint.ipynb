{
 "cells": [
  {
   "cell_type": "markdown",
   "metadata": {},
   "source": [
    "## Numpy Merge Array"
   ]
  },
  {
   "cell_type": "code",
   "execution_count": 1,
   "metadata": {
    "collapsed": true
   },
   "outputs": [],
   "source": [
    "import numpy as np"
   ]
  },
  {
   "cell_type": "code",
   "execution_count": 2,
   "metadata": {
    "collapsed": true
   },
   "outputs": [],
   "source": [
    "A = np.array([1, 1, 1])\n",
    "B = np.array([2, 2, 2])"
   ]
  },
  {
   "cell_type": "markdown",
   "metadata": {},
   "source": [
    "### Stack for 2 dimensional array merge"
   ]
  },
  {
   "cell_type": "code",
   "execution_count": 3,
   "metadata": {},
   "outputs": [
    {
     "name": "stdout",
     "output_type": "stream",
     "text": [
      "A Shpae: (3,)\n",
      "B Shpae: (3,)\n",
      "Vertical merge :\n",
      " [[1 1 1]\n",
      " [2 2 2]]\n",
      "Vertical merge Shape : (2, 3)\n",
      "Horizontal merge :\n",
      " [1 1 1 2 2 2]\n",
      "Horizontal merge Shape : (6,)\n"
     ]
    }
   ],
   "source": [
    "print(\"A Shpae:\", A.shape)\n",
    "print(\"B Shpae:\", B.shape)\n",
    "print(\"Vertical merge :\\n\", np.vstack((A, B)))\n",
    "print(\"Vertical merge Shape :\", np.vstack((A, B)).shape)\n",
    "print(\"Horizontal merge :\\n\", np.hstack((A, B)))\n",
    "print(\"Horizontal merge Shape :\", np.hstack((A, B)).shape)"
   ]
  },
  {
   "cell_type": "markdown",
   "metadata": {},
   "source": [
    "### Merge one dimemsional array by adding a new axis -> 2 dims"
   ]
  },
  {
   "cell_type": "code",
   "execution_count": 4,
   "metadata": {},
   "outputs": [
    {
     "name": "stdout",
     "output_type": "stream",
     "text": [
      "Add axis in col: \n",
      " [[1 1 1]]\n",
      "Shape : (1, 3)\n",
      "Add axis in row: \n",
      " [[1]\n",
      " [1]\n",
      " [1]]\n",
      "Shape : (3, 1)\n"
     ]
    }
   ],
   "source": [
    "A = np.array([1, 1, 1])\n",
    "B = np.array([2, 2, 2])\n",
    "print(\"Add axis in col: \\n\", A[np.newaxis, :])\n",
    "print(\"Shape :\", A[np.newaxis, :].shape)\n",
    "print(\"Add axis in row: \\n\", A[:, np.newaxis])\n",
    "print(\"Shape :\", A[:, np.newaxis].shape)"
   ]
  },
  {
   "cell_type": "code",
   "execution_count": 5,
   "metadata": {},
   "outputs": [
    {
     "name": "stdout",
     "output_type": "stream",
     "text": [
      "Before add a new axis\n",
      "[[1 1 1]\n",
      " [2 2 2]]\n",
      "[1 1 1 2 2 2]\n",
      "After add a new axis\n",
      "[[1]\n",
      " [1]\n",
      " [1]\n",
      " [2]\n",
      " [2]\n",
      " [2]]\n",
      "[[1 2]\n",
      " [1 2]\n",
      " [1 2]]\n"
     ]
    }
   ],
   "source": [
    "A = np.array([1, 1, 1])\n",
    "B = np.array([2, 2, 2])\n",
    "print(\"Before add a new axis\")\n",
    "C = np.vstack((A, B))\n",
    "D = np.hstack((A, B))\n",
    "print(C)\n",
    "print(D)\n",
    "print(\"After add a new axis\")\n",
    "A = A[:, np.newaxis]\n",
    "B = B[:, np.newaxis]\n",
    "C = np.vstack((A, B))\n",
    "D = np.hstack((A, B))\n",
    "print(C)\n",
    "print(D)"
   ]
  },
  {
   "cell_type": "markdown",
   "metadata": {},
   "source": [
    "### Concatenate on high dimensions merge"
   ]
  },
  {
   "cell_type": "code",
   "execution_count": 6,
   "metadata": {
    "collapsed": true
   },
   "outputs": [],
   "source": [
    "A = np.array([1, 1, 1]).reshape(3,1)\n",
    "B = np.array([2, 2, 2]).reshape(3,1)"
   ]
  },
  {
   "cell_type": "code",
   "execution_count": 7,
   "metadata": {},
   "outputs": [
    {
     "data": {
      "text/plain": [
       "array([[1],\n",
       "       [1],\n",
       "       [1],\n",
       "       [2],\n",
       "       [2],\n",
       "       [2]])"
      ]
     },
     "execution_count": 7,
     "metadata": {},
     "output_type": "execute_result"
    }
   ],
   "source": [
    "np.concatenate((A,B))"
   ]
  },
  {
   "cell_type": "code",
   "execution_count": 8,
   "metadata": {},
   "outputs": [
    {
     "data": {
      "text/plain": [
       "array([[1, 2],\n",
       "       [1, 2],\n",
       "       [1, 2]])"
      ]
     },
     "execution_count": 8,
     "metadata": {},
     "output_type": "execute_result"
    }
   ],
   "source": [
    "np.concatenate((A,B), axis=1)"
   ]
  }
 ],
 "metadata": {
  "kernelspec": {
   "display_name": "Python 3",
   "language": "python",
   "name": "python3"
  },
  "language_info": {
   "codemirror_mode": {
    "name": "ipython",
    "version": 3
   },
   "file_extension": ".py",
   "mimetype": "text/x-python",
   "name": "python",
   "nbconvert_exporter": "python",
   "pygments_lexer": "ipython3",
   "version": "3.6.2"
  }
 },
 "nbformat": 4,
 "nbformat_minor": 2
}
