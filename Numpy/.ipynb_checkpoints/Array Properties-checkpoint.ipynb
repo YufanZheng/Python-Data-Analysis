{
 "cells": [
  {
   "cell_type": "markdown",
   "metadata": {},
   "source": [
    "## Numpy Basic Properties"
   ]
  },
  {
   "cell_type": "code",
   "execution_count": 1,
   "metadata": {
    "collapsed": true
   },
   "outputs": [],
   "source": [
    "import numpy as np"
   ]
  },
  {
   "cell_type": "markdown",
   "metadata": {},
   "source": [
    "### Build a matrix\n",
    "\n",
    "- np.array( ** )"
   ]
  },
  {
   "cell_type": "code",
   "execution_count": 2,
   "metadata": {
    "collapsed": true
   },
   "outputs": [],
   "source": [
    "array = np.array([[1,2,3], \n",
    "                  [4,5,6]])"
   ]
  },
  {
   "cell_type": "markdown",
   "metadata": {},
   "source": [
    "### Get the information of Matrix\n",
    "\n",
    "- Get dimensions: array.ndim\n",
    "- Get shape: array.shape\n",
    "- Get number of elements: array.shize\n",
    "- Get data type: array.dtype"
   ]
  },
  {
   "cell_type": "code",
   "execution_count": 3,
   "metadata": {},
   "outputs": [
    {
     "name": "stdout",
     "output_type": "stream",
     "text": [
      "Dimensions : 2\n",
      "Shape : (2, 3)\n",
      "Size : 6\n",
      "Data Type : int64\n"
     ]
    }
   ],
   "source": [
    "print('Dimensions :', array.ndim  )\n",
    "print('Shape :',      array.shape )\n",
    "print('Size :',       array.size  )\n",
    "print('Data Type :',  array.dtype )"
   ]
  }
 ],
 "metadata": {
  "kernelspec": {
   "display_name": "Python 3",
   "language": "python",
   "name": "python3"
  },
  "language_info": {
   "codemirror_mode": {
    "name": "ipython",
    "version": 3
   },
   "file_extension": ".py",
   "mimetype": "text/x-python",
   "name": "python",
   "nbconvert_exporter": "python",
   "pygments_lexer": "ipython3",
   "version": "3.6.2"
  }
 },
 "nbformat": 4,
 "nbformat_minor": 2
}
