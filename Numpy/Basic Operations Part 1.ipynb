{
 "cells": [
  {
   "cell_type": "markdown",
   "metadata": {},
   "source": [
    "## Numpy Basic Operations"
   ]
  },
  {
   "cell_type": "code",
   "execution_count": 1,
   "metadata": {
    "collapsed": true
   },
   "outputs": [],
   "source": [
    "import numpy as np"
   ]
  },
  {
   "cell_type": "markdown",
   "metadata": {},
   "source": [
    "### Define 2 array for computations"
   ]
  },
  {
   "cell_type": "code",
   "execution_count": 9,
   "metadata": {},
   "outputs": [
    {
     "name": "stdout",
     "output_type": "stream",
     "text": [
      "Array a : [10 20 30 40]\n",
      "Array b : [1 2 3 4]\n"
     ]
    }
   ],
   "source": [
    "a = np.array([10,20,30,40])\n",
    "b = np.arange(1,5)\n",
    "\n",
    "print(\"Array a :\", a)\n",
    "print(\"Array b :\", b)"
   ]
  },
  {
   "cell_type": "markdown",
   "metadata": {},
   "source": [
    "### Operations on every array element"
   ]
  },
  {
   "cell_type": "code",
   "execution_count": 14,
   "metadata": {},
   "outputs": [
    {
     "name": "stdout",
     "output_type": "stream",
     "text": [
      "a + b : [11 22 33 44]\n",
      "a - b : [ 9 18 27 36]\n",
      "a * b : [ 10  40  90 160]\n",
      "a / b : [ 10.  10.  10.  10.]\n",
      "b ** 2 : [ 1  4  9 16]\n"
     ]
    }
   ],
   "source": [
    "print(\"a + b :\", a + b)\n",
    "print(\"a - b :\", a - b)\n",
    "print(\"a * b :\", a * b)\n",
    "print(\"a / b :\", a / b)"
   ]
  },
  {
   "cell_type": "code",
   "execution_count": 15,
   "metadata": {},
   "outputs": [
    {
     "name": "stdout",
     "output_type": "stream",
     "text": [
      "b ** 2 : [ 1  4  9 16]\n"
     ]
    }
   ],
   "source": [
    "print(\"b ** 2 :\", b ** 2)"
   ]
  },
  {
   "cell_type": "code",
   "execution_count": 21,
   "metadata": {},
   "outputs": [
    {
     "name": "stdout",
     "output_type": "stream",
     "text": [
      "sin(a) : [-0.54402111  0.91294525 -0.98803162  0.74511316]\n",
      "cos(a) : [-0.83907153  0.40808206  0.15425145 -0.66693806]\n",
      "tan(b) : [ 1.55740772 -2.18503986 -0.14254654  1.15782128]\n",
      "cot(b) : [ 0.64209262 -0.45765755 -7.01525255  0.86369115]\n"
     ]
    }
   ],
   "source": [
    "print(\"sin(a) :\", np.sin(a))\n",
    "print(\"cos(a) :\", np.cos(a))\n",
    "print(\"tan(b) :\", np.tan(b))\n",
    "print(\"cot(b) :\", 1 / np.tan(b))"
   ]
  },
  {
   "cell_type": "code",
   "execution_count": 23,
   "metadata": {},
   "outputs": [
    {
     "name": "stdout",
     "output_type": "stream",
     "text": [
      "Elements in b < 3 : [ True  True False False]\n",
      "Elements in b = 3 : [False False  True False]\n",
      "Elements in b > 3 : [False False False  True]\n"
     ]
    }
   ],
   "source": [
    "print(\"Elements in b < 3 :\", b <  3 )\n",
    "print(\"Elements in b = 3 :\", b == 3 )\n",
    "print(\"Elements in b > 3 :\", b >  3 )"
   ]
  },
  {
   "cell_type": "markdown",
   "metadata": {},
   "source": [
    "### Matrix manipulation"
   ]
  },
  {
   "cell_type": "code",
   "execution_count": 26,
   "metadata": {},
   "outputs": [
    {
     "name": "stdout",
     "output_type": "stream",
     "text": [
      "Reshaped Array a :\n",
      " [[10 20]\n",
      " [30 40]]\n",
      "Reshaped Array b :\n",
      " [[1 2]\n",
      " [3 4]]\n"
     ]
    }
   ],
   "source": [
    "a = a.reshape((2,2))\n",
    "b = b.reshape((2,2))\n",
    "\n",
    "print(\"Reshaped Array a :\\n\", a)\n",
    "print(\"Reshaped Array b :\\n\", b)"
   ]
  },
  {
   "cell_type": "markdown",
   "metadata": {},
   "source": [
    "### Matrix Dot Matrix\n",
    "- np.dot( *arr_1* , *arr_2* )\n",
    "- arr_1.dot( *arr_2* )"
   ]
  },
  {
   "cell_type": "code",
   "execution_count": 33,
   "metadata": {},
   "outputs": [
    {
     "name": "stdout",
     "output_type": "stream",
     "text": [
      "Method 1: a dot b :\n",
      " [[ 70 100]\n",
      " [150 220]]\n",
      "Method 2: a dot b :\n",
      " [[ 70 100]\n",
      " [150 220]]\n"
     ]
    }
   ],
   "source": [
    "print(\"Method 1: a dot b :\\n\", np.dot(a,b) )\n",
    "print(\"Method 2: a dot b :\\n\", a.dot(b) )"
   ]
  },
  {
   "cell_type": "markdown",
   "metadata": {},
   "source": [
    "### Get Min, Max and Sum"
   ]
  },
  {
   "cell_type": "code",
   "execution_count": 42,
   "metadata": {},
   "outputs": [
    {
     "name": "stdout",
     "output_type": "stream",
     "text": [
      "[[ 0.7189651   0.32518302  0.2703444   0.54595134]\n",
      " [ 0.46776028  0.78480763  0.47059151  0.76366503]]\n"
     ]
    }
   ],
   "source": [
    "a = np.random.random( (2,4) )\n",
    "print(a)"
   ]
  },
  {
   "cell_type": "code",
   "execution_count": 43,
   "metadata": {},
   "outputs": [
    {
     "name": "stdout",
     "output_type": "stream",
     "text": [
      "Minimum : 0.270344400019\n",
      "Maximum : 0.784807628367\n",
      "Sum     : 4.3472683051\n"
     ]
    }
   ],
   "source": [
    "print(\"Minimum :\", np.min(a))\n",
    "print(\"Maximum :\", np.max(a))\n",
    "print(\"Sum     :\", np.sum(a))"
   ]
  },
  {
   "cell_type": "markdown",
   "metadata": {},
   "source": [
    "### Get min, max and sum in axis"
   ]
  },
  {
   "cell_type": "code",
   "execution_count": 48,
   "metadata": {},
   "outputs": [
    {
     "name": "stdout",
     "output_type": "stream",
     "text": [
      "Minimum in rows : [ 0.46776028  0.32518302  0.2703444   0.54595134]\n",
      "Maximum in rows : [ 0.7189651   0.78480763  0.47059151  0.76366503]\n",
      "Sum     in rows : [ 1.18672538  1.10999065  0.74093591  1.30961637]\n"
     ]
    }
   ],
   "source": [
    "# 0 axis -> remove row\n",
    "print(\"Minimum in rows :\", np.min(a, axis=0))\n",
    "print(\"Maximum in rows :\", np.max(a, axis=0))\n",
    "print(\"Sum     in rows :\", np.sum(a, axis=0))"
   ]
  },
  {
   "cell_type": "code",
   "execution_count": 47,
   "metadata": {},
   "outputs": [
    {
     "name": "stdout",
     "output_type": "stream",
     "text": [
      "Minimum in columns : [ 0.2703444   0.46776028]\n",
      "Maximum in columns : [ 0.7189651   0.78480763]\n",
      "Sum     in columns : [ 1.86044386  2.48682444]\n"
     ]
    }
   ],
   "source": [
    "# 1 axis -> remove column\n",
    "print(\"Minimum in columns :\", np.min(a, axis=1))\n",
    "print(\"Maximum in columns :\", np.max(a, axis=1))\n",
    "print(\"Sum     in columns :\", np.sum(a, axis=1))"
   ]
  },
  {
   "cell_type": "code",
   "execution_count": null,
   "metadata": {
    "collapsed": true
   },
   "outputs": [],
   "source": []
  }
 ],
 "metadata": {
  "kernelspec": {
   "display_name": "Python 3",
   "language": "python",
   "name": "python3"
  },
  "language_info": {
   "codemirror_mode": {
    "name": "ipython",
    "version": 3
   },
   "file_extension": ".py",
   "mimetype": "text/x-python",
   "name": "python",
   "nbconvert_exporter": "python",
   "pygments_lexer": "ipython3",
   "version": "3.6.2"
  }
 },
 "nbformat": 4,
 "nbformat_minor": 2
}
