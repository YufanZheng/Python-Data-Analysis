{
 "cells": [
  {
   "cell_type": "markdown",
   "metadata": {},
   "source": [
    "## Numpy Copy and Deep Copy"
   ]
  },
  {
   "cell_type": "code",
   "execution_count": 1,
   "metadata": {
    "collapsed": true
   },
   "outputs": [],
   "source": [
    "import numpy as np"
   ]
  },
  {
   "cell_type": "markdown",
   "metadata": {},
   "source": [
    "### Create an array a"
   ]
  },
  {
   "cell_type": "code",
   "execution_count": 2,
   "metadata": {},
   "outputs": [
    {
     "name": "stdout",
     "output_type": "stream",
     "text": [
      "[0 1 2 3]\n"
     ]
    }
   ],
   "source": [
    "a = np.arange(4)\n",
    "print(a)"
   ]
  },
  {
   "cell_type": "markdown",
   "metadata": {},
   "source": [
    "### Copy a -> b by b = a ---- Normal Copy"
   ]
  },
  {
   "cell_type": "code",
   "execution_count": 3,
   "metadata": {},
   "outputs": [
    {
     "name": "stdout",
     "output_type": "stream",
     "text": [
      "a is : [0 1 2 3]\n",
      "b is : [0 1 2 3]\n",
      "b is a? : True\n"
     ]
    }
   ],
   "source": [
    "b = a\n",
    "print(\"a is :\", a)\n",
    "print(\"b is :\", b)\n",
    "print(\"b is a? :\", b is a)"
   ]
  },
  {
   "cell_type": "markdown",
   "metadata": {},
   "source": [
    "### If we change the value of a, b will change too"
   ]
  },
  {
   "cell_type": "code",
   "execution_count": 4,
   "metadata": {},
   "outputs": [
    {
     "name": "stdout",
     "output_type": "stream",
     "text": [
      "a becomes : [4 1 2 3]\n",
      "b becomes : [4 1 2 3]\n"
     ]
    }
   ],
   "source": [
    "a[0] = 4\n",
    "print(\"a becomes :\", a)\n",
    "print(\"b becomes :\", b)"
   ]
  },
  {
   "cell_type": "markdown",
   "metadata": {},
   "source": [
    "### Copy a -> b by b = a.copy() ---- Deep Copy"
   ]
  },
  {
   "cell_type": "code",
   "execution_count": 5,
   "metadata": {},
   "outputs": [
    {
     "name": "stdout",
     "output_type": "stream",
     "text": [
      "a is : [4 1 2 3]\n",
      "b is : [4 1 2 3]\n",
      "b is a? : False\n"
     ]
    }
   ],
   "source": [
    "b = a.copy()\n",
    "print(\"a is :\", a)\n",
    "print(\"b is :\", b)\n",
    "print(\"b is a? :\", b is a)"
   ]
  },
  {
   "cell_type": "markdown",
   "metadata": {},
   "source": [
    "### If we change the value of a, b will not change"
   ]
  },
  {
   "cell_type": "code",
   "execution_count": 6,
   "metadata": {},
   "outputs": [
    {
     "name": "stdout",
     "output_type": "stream",
     "text": [
      "a becomes : [ 9 10  2  3]\n",
      "b becomes : [4 1 2 3]\n"
     ]
    }
   ],
   "source": [
    "a[0:2] = [9,10]\n",
    "print(\"a becomes :\", a)\n",
    "print(\"b becomes :\", b)"
   ]
  }
 ],
 "metadata": {
  "kernelspec": {
   "display_name": "Python 3",
   "language": "python",
   "name": "python3"
  },
  "language_info": {
   "codemirror_mode": {
    "name": "ipython",
    "version": 3
   },
   "file_extension": ".py",
   "mimetype": "text/x-python",
   "name": "python",
   "nbconvert_exporter": "python",
   "pygments_lexer": "ipython3",
   "version": "3.6.2"
  }
 },
 "nbformat": 4,
 "nbformat_minor": 2
}
