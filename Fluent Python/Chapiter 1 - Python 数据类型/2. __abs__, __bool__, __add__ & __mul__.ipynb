{
 "cells": [
  {
   "cell_type": "markdown",
   "metadata": {},
   "source": [
    "# 如何使用特殊方法"
   ]
  },
  {
   "cell_type": "markdown",
   "metadata": {},
   "source": [
    "很多时候，特殊方法的调用是隐式的，比如 for i in x: 这个语句，背后其实用的是 iter(x)，而这个函数的背后则是 x.____iter__()__ 方法。当然前提是这个方法在 x 中被实现了"
   ]
  },
  {
   "cell_type": "markdown",
   "metadata": {},
   "source": [
    "## 一个简单的二维向量类"
   ]
  },
  {
   "cell_type": "code",
   "execution_count": 1,
   "metadata": {
    "collapsed": true
   },
   "outputs": [],
   "source": [
    "from math import hypot\n",
    "\n",
    "class Vector:\n",
    "    \n",
    "    def __init__(self, x=0, y=0):\n",
    "        self.x = x\n",
    "        self.y = y\n",
    "        \n",
    "    \"\"\" \n",
    "    __repr__ 和 __str__ 的区别在于: 后者是在 str() 函数被使用，或\n",
    "    是在用 print 函数打印一个对象的时候才被调用的，并且它返回的字符串\n",
    "    对终端用户更友好。\n",
    "    \n",
    "    如果你只想实现这两个特殊方法中的一个， __repr__ 是更好的选择，因为\n",
    "    如果一个对象没有 __str__ 函数，而 Python 又需要调用它的时候，解释\n",
    "    器会用 __repr__ 作为替代\n",
    "    \n",
    "    我们用到了 %r 来获取对象各个属性的标准字符串表示形式, 这是个好习惯，\n",
    "    它暗示了一个关键:Vector(1, 2)和Vector('1', '2')是不一样的，后者\n",
    "    在 我们的定义中会报错，因为向量对象的构造函数只接受数值，不接受字符串\n",
    "    \"\"\"\n",
    "    def __repr__(self):\n",
    "        return 'Vector(%r, %r)' % (self.x, self.y)\n",
    "    \n",
    "    \"\"\"\n",
    "    获得 Vector 的长度\n",
    "    \"\"\"\n",
    "    def __abs__(self):\n",
    "        return hypot(self.x, self.y)\n",
    "        \n",
    "    \"\"\"\n",
    "    我们对 __bool__ 的实现很简单，如果一个向量的模是 0，那么就返回 \n",
    "    False，其他情况则 返回 True。因为 __bool__ 函数的返回类型应该是布\n",
    "    尔型，所以我们通过 bool(abs(self)) 把模值变成了布尔值。\n",
    "    \"\"\"\n",
    "    def __bool__(self):\n",
    "        return bool(abs(self))\n",
    "    \n",
    "    \"\"\"\n",
    "    通过 __add__ 和 __mul__，示例 1-2 为向量类带来了 + 和 * 这两个\n",
    "    算术运算符。值得注意的 是，这两个方法的返回值都是新创建的向量对象，\n",
    "    被操作的两个向量(self 或 other)还 是原封不动，代码里只是读取了它\n",
    "    们的值而已。中缀运算符的基本原则就是不改变操作对 象，而是产出一个新\n",
    "    的值。\n",
    "    \"\"\"\n",
    "    def __add__(self, other):\n",
    "        x = self.x + other.x\n",
    "        y = self.y + other.y\n",
    "        return Vector(x, y)\n",
    "    \n",
    "    def __mul__(self, scalar):\n",
    "        return Vector(self.x * scalar, self.y * scalar)"
   ]
  },
  {
   "cell_type": "markdown",
   "metadata": {},
   "source": [
    "## 创建两个向量"
   ]
  },
  {
   "cell_type": "code",
   "execution_count": 2,
   "metadata": {
    "collapsed": true
   },
   "outputs": [],
   "source": [
    "a = Vector(3, 4)\n",
    "b = Vector(0, 0)"
   ]
  },
  {
   "cell_type": "code",
   "execution_count": 3,
   "metadata": {},
   "outputs": [
    {
     "data": {
      "text/plain": [
       "Vector(3, 4)"
      ]
     },
     "execution_count": 3,
     "metadata": {},
     "output_type": "execute_result"
    }
   ],
   "source": [
    "a + b"
   ]
  },
  {
   "cell_type": "code",
   "execution_count": 4,
   "metadata": {},
   "outputs": [
    {
     "data": {
      "text/plain": [
       "5.0"
      ]
     },
     "execution_count": 4,
     "metadata": {},
     "output_type": "execute_result"
    }
   ],
   "source": [
    "abs(a)"
   ]
  }
 ],
 "metadata": {
  "kernelspec": {
   "display_name": "Python 3",
   "language": "python",
   "name": "python3"
  },
  "language_info": {
   "codemirror_mode": {
    "name": "ipython",
    "version": 3
   },
   "file_extension": ".py",
   "mimetype": "text/x-python",
   "name": "python",
   "nbconvert_exporter": "python",
   "pygments_lexer": "ipython3",
   "version": "3.6.2"
  }
 },
 "nbformat": 4,
 "nbformat_minor": 2
}
