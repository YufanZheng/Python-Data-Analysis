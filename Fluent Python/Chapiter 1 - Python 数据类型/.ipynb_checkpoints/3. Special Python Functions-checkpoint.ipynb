{
 "cells": [
  {
   "cell_type": "markdown",
   "metadata": {},
   "source": [
    "# 特殊方法一览"
   ]
  },
  {
   "cell_type": "markdown",
   "metadata": {},
   "source": [
    "### 表1-1:跟运算符无关的特殊方法"
   ]
  },
  {
   "cell_type": "markdown",
   "metadata": {},
   "source": [
    "类别 | 方法名\n",
    "--- | ---\n",
    "字符串/字节序列表示形式 | ______repr______、______str______、______format______、______bytes______\n",
    "数值转换 | ______abs______、______bool______、______complex______、______int______、______float______、______hash______、______index______\n",
    "集合模拟 | ______len______、______getitem______、______setitem______、______delitem______、______contains______\n",
    "迭代枚举 | ______iter______、______reversed______、______next______\n",
    "可调用模拟 | ______call______\n",
    "上下文管理 | ______enter______、______exit______\n",
    "实例创建和销毁 | ______new______、______init______、______del______\n",
    "属性管理 | ______getattr______、______getattribute______、______setattr______、______delattr______、______dir______\n",
    "属性描述符 | ______get______、______set______、______delete______\n",
    "跟类相关的服务 | ______prepare______、______instancecheck______、______subclasscheck______"
   ]
  },
  {
   "cell_type": "markdown",
   "metadata": {},
   "source": [
    "### 表1-2:跟运算符相关的特殊方法"
   ]
  },
  {
   "cell_type": "markdown",
   "metadata": {},
   "source": [
    "类别 | 方法名和对应的运算符\n",
    "--- | ---\n",
    "一元运算符 | ______neg______ -、______pos______ +、______abs______ abs()\n",
    "众多比较运算符 | ______lt______ <、______le______ <=、______eq______ ==、______ne______ !=、______gt______ >、______ge______ >=\n",
    "算术运算符 | ______add______ +、______sub______ -、______mul______ *、______truediv______ /、______floordiv______ //、______ mod______ %、______divmod______ divmod()、______pow______ ** 或 pow()、______round______ round()\n",
    "反向算术运算符 |  ______radd______、______rsub______、______rmul______、______rtruediv______、______rfloordiv______、______rmod______、 ______rdivmod______、______rpow______\n",
    "增量赋值算术运算符 | ______iadd______、______isub______、______imul______、______itruediv______、______ifloordiv______、______imod______、 ______ipow______\n",
    "位运算符 | ______invert______ ~、______lshift______ <<、______rshift______ >>、______and______ &、______or______  、______ xor______ ^\n",
    "反向位运算符 | ______rlshift______、______rrshift______、______rand______、______rxor______、______ror______\n",
    "增量赋值位运算符 |  ______ilshift______、______irshift______、______iand______、______ixor______、______ior______"
   ]
  }
 ],
 "metadata": {
  "kernelspec": {
   "display_name": "Python 3",
   "language": "python",
   "name": "python3"
  },
  "language_info": {
   "codemirror_mode": {
    "name": "ipython",
    "version": 3
   },
   "file_extension": ".py",
   "mimetype": "text/x-python",
   "name": "python",
   "nbconvert_exporter": "python",
   "pygments_lexer": "ipython3",
   "version": "3.6.2"
  }
 },
 "nbformat": 4,
 "nbformat_minor": 2
}
