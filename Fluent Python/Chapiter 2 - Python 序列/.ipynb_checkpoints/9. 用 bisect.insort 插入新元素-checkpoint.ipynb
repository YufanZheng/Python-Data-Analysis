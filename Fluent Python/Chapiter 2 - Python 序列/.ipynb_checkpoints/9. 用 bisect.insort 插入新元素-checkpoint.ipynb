{
 "cells": [
  {
   "cell_type": "markdown",
   "metadata": {},
   "source": [
    "# 用 bisect.insort 插入新元素"
   ]
  },
  {
   "cell_type": "markdown",
   "metadata": {},
   "source": [
    "insort ( seq , item )把变量 item 插入到序列 seq 中，并能保持 seq 的升序顺序。"
   ]
  },
  {
   "cell_type": "code",
   "execution_count": 1,
   "metadata": {},
   "outputs": [
    {
     "name": "stdout",
     "output_type": "stream",
     "text": [
      "10 -> [10]\n",
      " 0 -> [0, 10]\n",
      " 6 -> [0, 6, 10]\n",
      " 8 -> [0, 6, 8, 10]\n",
      " 7 -> [0, 6, 7, 8, 10]\n",
      " 2 -> [0, 2, 6, 7, 8, 10]\n",
      "10 -> [0, 2, 6, 7, 8, 10, 10]\n"
     ]
    }
   ],
   "source": [
    "import random\n",
    "import bisect\n",
    "\n",
    "SIZE = 7\n",
    "\n",
    "random.seed(1729)\n",
    "\n",
    "my_list = []\n",
    "for i in range(SIZE):\n",
    "    new_item = random.randrange(SIZE*2)\n",
    "    bisect.insort(my_list, new_item)\n",
    "    print('{:2d} -> {}'.format(new_item, my_list))"
   ]
  },
  {
   "cell_type": "markdown",
   "metadata": {},
   "source": [
    "排序很耗时，因此在得到一个有序序列之后，我们最好能够保持它的有序。bisect.insort\n",
    "就是为了这个而存在的。"
   ]
  }
 ],
 "metadata": {
  "kernelspec": {
   "display_name": "Python 3",
   "language": "python",
   "name": "python3"
  },
  "language_info": {
   "codemirror_mode": {
    "name": "ipython",
    "version": 3
   },
   "file_extension": ".py",
   "mimetype": "text/x-python",
   "name": "python",
   "nbconvert_exporter": "python",
   "pygments_lexer": "ipython3",
   "version": "3.6.2"
  }
 },
 "nbformat": 4,
 "nbformat_minor": 2
}
