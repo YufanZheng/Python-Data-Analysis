{
 "cells": [
  {
   "cell_type": "markdown",
   "metadata": {},
   "source": [
    "## 内置序列类型概览"
   ]
  },
  {
   "cell_type": "markdown",
   "metadata": {},
   "source": [
    "容器序列\n",
    "- list、tuple 和 collections.deque 这些序列能存放不同类型的数据。 \n",
    "\n",
    "扁平序列\n",
    "- str、bytes、bytearray、memoryview 和 array.array，这类序列只能容纳一种类型。"
   ]
  },
  {
   "cell_type": "markdown",
   "metadata": {},
   "source": [
    "可变序列\n",
    "- list、bytearray、array.array、collections.deque 和 memoryview。 \n",
    "\n",
    "不可变序列\n",
    "- tuple、str 和 bytes。"
   ]
  },
  {
   "cell_type": "markdown",
   "metadata": {},
   "source": [
    "## 容器类继承关系"
   ]
  },
  {
   "cell_type": "markdown",
   "metadata": {},
   "source": [
    "               Container                           Iterable                              Sized\n",
    "              __contains__                         __iter__                             __len__ \n",
    "                  ^                                   ^                                    ^\n",
    "                 / \\                                 / \\                                  / \\\n",
    "                  |                                   |                                    |\n",
    "                  --------------------------------------------------------------------------\n",
    "                                                      |\n",
    "                                                   Sequence\n",
    "                                                  __getitem__ \n",
    "                                                  __contains__\n",
    "                                                   __iter__\n",
    "                                                  __reversed__\n",
    "                                                      ^\n",
    "                                                     / \\\n",
    "                                                      |\n",
    "                                                MutableSequence\n",
    "                                                  __setitem__\n",
    "                                                  __delitem__\n",
    "                                                    insert\n",
    "                                                    append\n",
    "                                                    reverse\n",
    "                                                    extend\n",
    "                                                      pop\n",
    "                                                    remove\n",
    "                                                   __iadd__"
   ]
  }
 ],
 "metadata": {
  "kernelspec": {
   "display_name": "Python 3",
   "language": "python",
   "name": "python3"
  },
  "language_info": {
   "codemirror_mode": {
    "name": "ipython",
    "version": 3
   },
   "file_extension": ".py",
   "mimetype": "text/x-python",
   "name": "python",
   "nbconvert_exporter": "python",
   "pygments_lexer": "ipython3",
   "version": "3.6.2"
  }
 },
 "nbformat": 4,
 "nbformat_minor": 2
}
