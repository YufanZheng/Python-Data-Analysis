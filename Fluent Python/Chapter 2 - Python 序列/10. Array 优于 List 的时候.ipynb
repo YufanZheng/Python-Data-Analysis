{
 "cells": [
  {
   "cell_type": "markdown",
   "metadata": {},
   "source": [
    "# Python Array 优于 List 的情况"
   ]
  },
  {
   "cell_type": "markdown",
   "metadata": {},
   "source": [
    "- 要存放 1000 万个浮点数的话，数组(array)的效率要高得多，因为数组在背后存的并不是 float 对象，而是数字的机器翻译，也就是字节表述\n",
    "- 数组支持所有跟 可变序列有关的操作，包括 .pop、.insert 和 .extend\n",
    "- 数组还提供从文件读取和存 入文件的更快的方法，如 .frombytes 和 .tofile"
   ]
  },
  {
   "cell_type": "markdown",
   "metadata": {
    "collapsed": true
   },
   "source": [
    "### 一个浮点型数组的创建、存入文件和从文件读取的过程"
   ]
  },
  {
   "cell_type": "code",
   "execution_count": 1,
   "metadata": {
    "collapsed": true
   },
   "outputs": [],
   "source": [
    "from array import array\n",
    "from random import random"
   ]
  },
  {
   "cell_type": "markdown",
   "metadata": {},
   "source": [
    "创建数组需要一个类型码，这个类型码用来表示在 底层的 C 语言应该存放怎样的数据类型。序列很大的时候，我们能节省很多空间。而且 Python 不会允许你在数组里存 放除指定类型之外的数据。"
   ]
  },
  {
   "cell_type": "code",
   "execution_count": null,
   "metadata": {
    "collapsed": true
   },
   "outputs": [],
   "source": [
    "floats = array('b', (random() for i in range(10**7)))"
   ]
  }
 ],
 "metadata": {
  "kernelspec": {
   "display_name": "Python 3",
   "language": "python",
   "name": "python3"
  },
  "language_info": {
   "codemirror_mode": {
    "name": "ipython",
    "version": 3
   },
   "file_extension": ".py",
   "mimetype": "text/x-python",
   "name": "python",
   "nbconvert_exporter": "python",
   "pygments_lexer": "ipython3",
   "version": "3.6.2"
  }
 },
 "nbformat": 4,
 "nbformat_minor": 2
}
